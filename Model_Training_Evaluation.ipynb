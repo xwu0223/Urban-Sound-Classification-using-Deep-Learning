{
 "cells": [
  {
   "cell_type": "markdown",
   "metadata": {},
   "source": [
    "# Classifying Urban sounds using Deep Learning\n",
    "\n",
    "## 2. Model Training and Evaluation"
   ]
  },
  {
   "cell_type": "code",
   "execution_count": 171,
   "metadata": {},
   "outputs": [],
   "source": [
    "# retrieve the preprocessed data from previous notebook\n",
    "%store -r x_train \n",
    "%store -r x_test \n",
    "%store -r y_train \n",
    "%store -r y_test \n",
    "%store -r yy \n",
    "%store -r le"
   ]
  },
  {
   "cell_type": "markdown",
   "metadata": {},
   "source": [
    "### Initial model architecture - MLP\n",
    "We will start with constructing a Multilayer Perceptron (MLP) Neural Network using Keras and a Tensorflow backend.\n",
    "\n",
    "Starting with a sequential model so we can build the model layer by layer.\n",
    "\n",
    "We will begin with a simple model architecture, consisting of three layers, an input layer, a hidden layer and an output layer. All three layers will be of the dense layer type which is a standard layer type that is used in many cases for neural networks.\n",
    "\n",
    "The first layer will receive the input shape. As each sample contains 40 MFCCs (Mel Frequency Cepstral Coefficents)(or columns) we have a shape of (1x40) this means we will start with an input shape of 40.\n",
    "\n",
    "The first two layers will have 256 nodes. The activation function we will be using for our first 2 layers is the ReLU, or Rectified Linear Activation. This activation function has been proven to work well in neural networks.\n",
    "\n",
    "We will also apply a Dropout value of 50% on our first two layers. This will randomly exclude nodes from each update cycle which in turn results in a network that is capable of better generalisation and is less likely to overfit the training data.\n",
    "\n",
    "Our output layer will have 10 nodes (num_labels) which matches the number of possible classifications. The activation is for our output layer is softmax. Softmax makes the output sum up to 1 so the output can be interpreted as probabilities. The model will then make its prediction based on which option has the highest probability."
   ]
  },
  {
   "cell_type": "code",
   "execution_count": 172,
   "metadata": {},
   "outputs": [],
   "source": [
    "import numpy as np\n",
    "from keras.models import Sequential\n",
    "from keras.layers import Dense, Dropout, Activation, Flatten\n",
    "from keras.layers import Convolution2D, MaxPooling2D\n",
    "from keras.optimizers import Adam\n",
    "from keras.utils import np_utils\n",
    "from sklearn import metrics \n",
    "\n",
    "num_labels = yy.shape[1]\n",
    "filter_size = 4\n",
    "\n",
    "# Construct model \n",
    "model = Sequential()\n",
    "\n",
    "model.add(Dense(256, input_shape=(40,)))\n",
    "model.add(Activation('relu'))\n",
    "model.add(Dropout(0.5))\n",
    "\n",
    "model.add(Dense(256))\n",
    "model.add(Activation('relu'))\n",
    "model.add(Dropout(0.5))\n",
    "\n",
    "model.add(Dense(num_labels))\n",
    "model.add(Activation('softmax'))"
   ]
  },
  {
   "cell_type": "markdown",
   "metadata": {},
   "source": [
    "## Compiling the model\n",
    "For compiling our model, we will use the following three parameters:\n",
    "\n",
    "Loss function - we will use categorical_crossentropy. This is the most common choice for classification. A lower score indicates that the model is performing better.\n",
    "\n",
    "Metrics - we will use the accuracy metric which will allow us to view the accuracy score on the validation data when we train the model.\n",
    "\n",
    "Optimizer - here we will use adam which is a generally good optimizer for many use cases."
   ]
  },
  {
   "cell_type": "code",
   "execution_count": 173,
   "metadata": {},
   "outputs": [],
   "source": [
    "# Compile the model\n",
    "model.compile(loss='categorical_crossentropy', metrics=['accuracy'], optimizer='adam')"
   ]
  },
  {
   "cell_type": "code",
   "execution_count": 176,
   "metadata": {},
   "outputs": [
    {
     "name": "stdout",
     "output_type": "stream",
     "text": [
      "Model: \"sequential_4\"\n",
      "_________________________________________________________________\n",
      "Layer (type)                 Output Shape              Param #   \n",
      "=================================================================\n",
      "dense_10 (Dense)             (None, 256)               10496     \n",
      "_________________________________________________________________\n",
      "activation_10 (Activation)   (None, 256)               0         \n",
      "_________________________________________________________________\n",
      "dropout_7 (Dropout)          (None, 256)               0         \n",
      "_________________________________________________________________\n",
      "dense_11 (Dense)             (None, 256)               65792     \n",
      "_________________________________________________________________\n",
      "activation_11 (Activation)   (None, 256)               0         \n",
      "_________________________________________________________________\n",
      "dropout_8 (Dropout)          (None, 256)               0         \n",
      "_________________________________________________________________\n",
      "dense_12 (Dense)             (None, 10)                2570      \n",
      "_________________________________________________________________\n",
      "activation_12 (Activation)   (None, 10)                0         \n",
      "=================================================================\n",
      "Total params: 78,858\n",
      "Trainable params: 78,858\n",
      "Non-trainable params: 0\n",
      "_________________________________________________________________\n",
      "Pre-training accuracy: 87.5537%\n"
     ]
    }
   ],
   "source": [
    "# Display model architecture summary \n",
    "model.summary()\n",
    "\n",
    "# Calculate pre-training accuracy \n",
    "score = model.evaluate(x_test, y_test, verbose=0)\n",
    "accuracy = 100*score[1]\n",
    "\n",
    "print(\"Pre-training accuracy: %.4f%%\" % accuracy)"
   ]
  },
  {
   "cell_type": "code",
   "execution_count": 177,
   "metadata": {},
   "outputs": [
    {
     "name": "stdout",
     "output_type": "stream",
     "text": [
      "Train on 3804 samples, validate on 1631 samples\n",
      "Epoch 1/100\n",
      "3804/3804 [==============================] - 0s 129us/step - loss: 0.4315 - accuracy: 0.8578 - val_loss: 0.3959 - val_accuracy: 0.8860\n",
      "\n",
      "Epoch 00001: val_loss improved from inf to 0.39590, saving model to ../Capstone_Project_2/weights.best.basic_mlp.hdf5\n",
      "Epoch 2/100\n",
      "3804/3804 [==============================] - 1s 155us/step - loss: 0.4401 - accuracy: 0.8504 - val_loss: 0.4019 - val_accuracy: 0.8761\n",
      "\n",
      "Epoch 00002: val_loss did not improve from 0.39590\n",
      "Epoch 3/100\n",
      "3804/3804 [==============================] - 1s 150us/step - loss: 0.4535 - accuracy: 0.8420 - val_loss: 0.3702 - val_accuracy: 0.8860\n",
      "\n",
      "Epoch 00003: val_loss improved from 0.39590 to 0.37018, saving model to ../Capstone_Project_2/weights.best.basic_mlp.hdf5\n",
      "Epoch 4/100\n",
      "3804/3804 [==============================] - 0s 125us/step - loss: 0.4670 - accuracy: 0.8452 - val_loss: 0.4175 - val_accuracy: 0.8688\n",
      "\n",
      "Epoch 00004: val_loss did not improve from 0.37018\n",
      "Epoch 5/100\n",
      "3804/3804 [==============================] - 1s 133us/step - loss: 0.4458 - accuracy: 0.8525 - val_loss: 0.4113 - val_accuracy: 0.8755\n",
      "\n",
      "Epoch 00005: val_loss did not improve from 0.37018\n",
      "Epoch 6/100\n",
      "3804/3804 [==============================] - 0s 119us/step - loss: 0.4281 - accuracy: 0.8507 - val_loss: 0.3923 - val_accuracy: 0.8866\n",
      "\n",
      "Epoch 00006: val_loss did not improve from 0.37018\n",
      "Epoch 7/100\n",
      "3804/3804 [==============================] - 0s 114us/step - loss: 0.4186 - accuracy: 0.8583 - val_loss: 0.3779 - val_accuracy: 0.8933\n",
      "\n",
      "Epoch 00007: val_loss did not improve from 0.37018\n",
      "Epoch 8/100\n",
      "3804/3804 [==============================] - 0s 122us/step - loss: 0.4452 - accuracy: 0.8462 - val_loss: 0.3948 - val_accuracy: 0.8761\n",
      "\n",
      "Epoch 00008: val_loss did not improve from 0.37018\n",
      "Epoch 9/100\n",
      "3804/3804 [==============================] - 0s 118us/step - loss: 0.4570 - accuracy: 0.8486 - val_loss: 0.4128 - val_accuracy: 0.8755\n",
      "\n",
      "Epoch 00009: val_loss did not improve from 0.37018\n",
      "Epoch 10/100\n",
      "3804/3804 [==============================] - 1s 136us/step - loss: 0.4261 - accuracy: 0.8617 - val_loss: 0.3725 - val_accuracy: 0.8903\n",
      "\n",
      "Epoch 00010: val_loss did not improve from 0.37018\n",
      "Epoch 11/100\n",
      "3804/3804 [==============================] - 0s 116us/step - loss: 0.4250 - accuracy: 0.8625 - val_loss: 0.3888 - val_accuracy: 0.8909\n",
      "\n",
      "Epoch 00011: val_loss did not improve from 0.37018\n",
      "Epoch 12/100\n",
      "3804/3804 [==============================] - 0s 124us/step - loss: 0.4888 - accuracy: 0.8404 - val_loss: 0.4169 - val_accuracy: 0.8780\n",
      "\n",
      "Epoch 00012: val_loss did not improve from 0.37018\n",
      "Epoch 13/100\n",
      "3804/3804 [==============================] - 0s 116us/step - loss: 0.4136 - accuracy: 0.8623 - val_loss: 0.4118 - val_accuracy: 0.8694\n",
      "\n",
      "Epoch 00013: val_loss did not improve from 0.37018\n",
      "Epoch 14/100\n",
      "3804/3804 [==============================] - 1s 155us/step - loss: 0.4237 - accuracy: 0.8601 - val_loss: 0.3847 - val_accuracy: 0.8866\n",
      "\n",
      "Epoch 00014: val_loss did not improve from 0.37018\n",
      "Epoch 15/100\n",
      "3804/3804 [==============================] - 0s 116us/step - loss: 0.4543 - accuracy: 0.8452 - val_loss: 0.3630 - val_accuracy: 0.8921\n",
      "\n",
      "Epoch 00015: val_loss improved from 0.37018 to 0.36305, saving model to ../Capstone_Project_2/weights.best.basic_mlp.hdf5\n",
      "Epoch 16/100\n",
      "3804/3804 [==============================] - 1s 167us/step - loss: 0.4366 - accuracy: 0.8530 - val_loss: 0.3811 - val_accuracy: 0.8829\n",
      "\n",
      "Epoch 00016: val_loss did not improve from 0.36305\n",
      "Epoch 17/100\n",
      "3804/3804 [==============================] - 1s 142us/step - loss: 0.4529 - accuracy: 0.8570 - val_loss: 0.3635 - val_accuracy: 0.8903\n",
      "\n",
      "Epoch 00017: val_loss did not improve from 0.36305\n",
      "Epoch 18/100\n",
      "3804/3804 [==============================] - 0s 130us/step - loss: 0.4100 - accuracy: 0.8594 - val_loss: 0.4047 - val_accuracy: 0.8835\n",
      "\n",
      "Epoch 00018: val_loss did not improve from 0.36305\n",
      "Epoch 19/100\n",
      "3804/3804 [==============================] - 0s 126us/step - loss: 0.4130 - accuracy: 0.8615 - val_loss: 0.3781 - val_accuracy: 0.8835\n",
      "\n",
      "Epoch 00019: val_loss did not improve from 0.36305\n",
      "Epoch 20/100\n",
      "3804/3804 [==============================] - 0s 112us/step - loss: 0.4070 - accuracy: 0.8667 - val_loss: 0.3862 - val_accuracy: 0.8841\n",
      "\n",
      "Epoch 00020: val_loss did not improve from 0.36305\n",
      "Epoch 21/100\n",
      "3804/3804 [==============================] - 0s 114us/step - loss: 0.3931 - accuracy: 0.8641 - val_loss: 0.4090 - val_accuracy: 0.8811\n",
      "\n",
      "Epoch 00021: val_loss did not improve from 0.36305\n",
      "Epoch 22/100\n",
      "3804/3804 [==============================] - 0s 127us/step - loss: 0.4098 - accuracy: 0.8644 - val_loss: 0.4123 - val_accuracy: 0.8915\n",
      "\n",
      "Epoch 00022: val_loss did not improve from 0.36305\n",
      "Epoch 23/100\n",
      "3804/3804 [==============================] - 0s 117us/step - loss: 0.3964 - accuracy: 0.8654 - val_loss: 0.3873 - val_accuracy: 0.8835\n",
      "\n",
      "Epoch 00023: val_loss did not improve from 0.36305\n",
      "Epoch 24/100\n",
      "3804/3804 [==============================] - 1s 144us/step - loss: 0.3988 - accuracy: 0.8662 - val_loss: 0.3685 - val_accuracy: 0.8872\n",
      "\n",
      "Epoch 00024: val_loss did not improve from 0.36305\n",
      "Epoch 25/100\n",
      "3804/3804 [==============================] - 0s 123us/step - loss: 0.3873 - accuracy: 0.8701 - val_loss: 0.3798 - val_accuracy: 0.8890\n",
      "\n",
      "Epoch 00025: val_loss did not improve from 0.36305\n",
      "Epoch 26/100\n",
      "3804/3804 [==============================] - 1s 139us/step - loss: 0.4349 - accuracy: 0.8588 - val_loss: 0.3749 - val_accuracy: 0.8884\n",
      "\n",
      "Epoch 00026: val_loss did not improve from 0.36305\n",
      "Epoch 27/100\n",
      "3804/3804 [==============================] - 0s 118us/step - loss: 0.4029 - accuracy: 0.8578 - val_loss: 0.3861 - val_accuracy: 0.8872\n",
      "\n",
      "Epoch 00027: val_loss did not improve from 0.36305\n",
      "Epoch 28/100\n",
      "3804/3804 [==============================] - 1s 132us/step - loss: 0.4006 - accuracy: 0.8670 - val_loss: 0.3794 - val_accuracy: 0.8860\n",
      "\n",
      "Epoch 00028: val_loss did not improve from 0.36305\n",
      "Epoch 29/100\n",
      "3804/3804 [==============================] - 0s 106us/step - loss: 0.3850 - accuracy: 0.8746 - val_loss: 0.3723 - val_accuracy: 0.8878\n",
      "\n",
      "Epoch 00029: val_loss did not improve from 0.36305\n",
      "Epoch 30/100\n",
      "3804/3804 [==============================] - 0s 115us/step - loss: 0.4034 - accuracy: 0.8641 - val_loss: 0.3779 - val_accuracy: 0.8933\n",
      "\n",
      "Epoch 00030: val_loss did not improve from 0.36305\n",
      "Epoch 31/100\n",
      "3804/3804 [==============================] - 0s 113us/step - loss: 0.4196 - accuracy: 0.8646 - val_loss: 0.4060 - val_accuracy: 0.8749\n",
      "\n",
      "Epoch 00031: val_loss did not improve from 0.36305\n",
      "Epoch 32/100\n",
      "3804/3804 [==============================] - 1s 169us/step - loss: 0.4145 - accuracy: 0.8567 - val_loss: 0.3753 - val_accuracy: 0.8817\n",
      "\n",
      "Epoch 00032: val_loss did not improve from 0.36305\n",
      "Epoch 33/100\n",
      "3804/3804 [==============================] - 0s 116us/step - loss: 0.3789 - accuracy: 0.8764 - val_loss: 0.3659 - val_accuracy: 0.8903\n",
      "\n",
      "Epoch 00033: val_loss did not improve from 0.36305\n",
      "Epoch 34/100\n",
      "3804/3804 [==============================] - 1s 139us/step - loss: 0.4241 - accuracy: 0.8654 - val_loss: 0.3771 - val_accuracy: 0.8890\n",
      "\n",
      "Epoch 00034: val_loss did not improve from 0.36305\n",
      "Epoch 35/100\n",
      "3804/3804 [==============================] - 0s 118us/step - loss: 0.3806 - accuracy: 0.8720 - val_loss: 0.3924 - val_accuracy: 0.8860\n",
      "\n",
      "Epoch 00035: val_loss did not improve from 0.36305\n",
      "Epoch 36/100\n",
      "3804/3804 [==============================] - 1s 150us/step - loss: 0.4201 - accuracy: 0.8633 - val_loss: 0.3827 - val_accuracy: 0.8884\n",
      "\n",
      "Epoch 00036: val_loss did not improve from 0.36305\n",
      "Epoch 37/100\n",
      "3804/3804 [==============================] - 1s 135us/step - loss: 0.3921 - accuracy: 0.8704 - val_loss: 0.3519 - val_accuracy: 0.8958\n",
      "\n",
      "Epoch 00037: val_loss improved from 0.36305 to 0.35191, saving model to ../Capstone_Project_2/weights.best.basic_mlp.hdf5\n",
      "Epoch 38/100\n",
      "3804/3804 [==============================] - 1s 161us/step - loss: 0.3779 - accuracy: 0.8741 - val_loss: 0.3830 - val_accuracy: 0.8915\n",
      "\n",
      "Epoch 00038: val_loss did not improve from 0.35191\n",
      "Epoch 39/100\n",
      "3804/3804 [==============================] - 0s 118us/step - loss: 0.4144 - accuracy: 0.8670 - val_loss: 0.3741 - val_accuracy: 0.8927\n",
      "\n",
      "Epoch 00039: val_loss did not improve from 0.35191\n",
      "Epoch 40/100\n",
      "3804/3804 [==============================] - 0s 130us/step - loss: 0.3847 - accuracy: 0.8762 - val_loss: 0.3700 - val_accuracy: 0.8982\n",
      "\n",
      "Epoch 00040: val_loss did not improve from 0.35191\n",
      "Epoch 41/100\n",
      "3804/3804 [==============================] - 0s 114us/step - loss: 0.4147 - accuracy: 0.8601 - val_loss: 0.3636 - val_accuracy: 0.8927\n",
      "\n",
      "Epoch 00041: val_loss did not improve from 0.35191\n",
      "Epoch 42/100\n",
      "3804/3804 [==============================] - 1s 131us/step - loss: 0.3772 - accuracy: 0.8696 - val_loss: 0.3694 - val_accuracy: 0.8860\n",
      "\n",
      "Epoch 00042: val_loss did not improve from 0.35191\n",
      "Epoch 43/100\n",
      "3804/3804 [==============================] - 0s 116us/step - loss: 0.3801 - accuracy: 0.8733 - val_loss: 0.3769 - val_accuracy: 0.8866\n",
      "\n",
      "Epoch 00043: val_loss did not improve from 0.35191\n",
      "Epoch 44/100\n",
      "3804/3804 [==============================] - 0s 130us/step - loss: 0.4080 - accuracy: 0.8686 - val_loss: 0.3774 - val_accuracy: 0.8909\n",
      "\n",
      "Epoch 00044: val_loss did not improve from 0.35191\n",
      "Epoch 45/100\n",
      "3804/3804 [==============================] - 0s 107us/step - loss: 0.4074 - accuracy: 0.8691 - val_loss: 0.3478 - val_accuracy: 0.8933\n",
      "\n",
      "Epoch 00045: val_loss improved from 0.35191 to 0.34775, saving model to ../Capstone_Project_2/weights.best.basic_mlp.hdf5\n",
      "Epoch 46/100\n",
      "3804/3804 [==============================] - 0s 130us/step - loss: 0.3855 - accuracy: 0.8715 - val_loss: 0.3782 - val_accuracy: 0.8872\n",
      "\n",
      "Epoch 00046: val_loss did not improve from 0.34775\n",
      "Epoch 47/100\n",
      "3804/3804 [==============================] - 0s 122us/step - loss: 0.4021 - accuracy: 0.8651 - val_loss: 0.3660 - val_accuracy: 0.8982\n",
      "\n",
      "Epoch 00047: val_loss did not improve from 0.34775\n",
      "Epoch 48/100\n",
      "3804/3804 [==============================] - 1s 141us/step - loss: 0.3753 - accuracy: 0.8728 - val_loss: 0.3618 - val_accuracy: 0.8988\n",
      "\n",
      "Epoch 00048: val_loss did not improve from 0.34775\n",
      "Epoch 49/100\n",
      "3804/3804 [==============================] - 1s 132us/step - loss: 0.3801 - accuracy: 0.8699 - val_loss: 0.3674 - val_accuracy: 0.8909\n",
      "\n",
      "Epoch 00049: val_loss did not improve from 0.34775\n",
      "Epoch 50/100\n",
      "3804/3804 [==============================] - 1s 138us/step - loss: 0.3699 - accuracy: 0.8804 - val_loss: 0.3667 - val_accuracy: 0.8921\n",
      "\n",
      "Epoch 00050: val_loss did not improve from 0.34775\n",
      "Epoch 51/100\n",
      "3804/3804 [==============================] - 0s 121us/step - loss: 0.3870 - accuracy: 0.8801 - val_loss: 0.3692 - val_accuracy: 0.9007\n",
      "\n",
      "Epoch 00051: val_loss did not improve from 0.34775\n",
      "Epoch 52/100\n",
      "3804/3804 [==============================] - 1s 145us/step - loss: 0.3863 - accuracy: 0.8704 - val_loss: 0.3820 - val_accuracy: 0.8958\n",
      "\n",
      "Epoch 00052: val_loss did not improve from 0.34775\n",
      "Epoch 53/100\n",
      "3804/3804 [==============================] - 1s 133us/step - loss: 0.3729 - accuracy: 0.8791 - val_loss: 0.3772 - val_accuracy: 0.8976\n",
      "\n",
      "Epoch 00053: val_loss did not improve from 0.34775\n",
      "Epoch 54/100\n",
      "3804/3804 [==============================] - 1s 142us/step - loss: 0.4151 - accuracy: 0.8665 - val_loss: 0.3870 - val_accuracy: 0.8761\n",
      "\n",
      "Epoch 00054: val_loss did not improve from 0.34775\n",
      "Epoch 55/100\n",
      "3804/3804 [==============================] - 0s 122us/step - loss: 0.3779 - accuracy: 0.8812 - val_loss: 0.3714 - val_accuracy: 0.8958\n",
      "\n",
      "Epoch 00055: val_loss did not improve from 0.34775\n",
      "Epoch 56/100\n",
      "3804/3804 [==============================] - 1s 162us/step - loss: 0.3713 - accuracy: 0.8757 - val_loss: 0.3693 - val_accuracy: 0.8970\n",
      "\n",
      "Epoch 00056: val_loss did not improve from 0.34775\n",
      "Epoch 57/100\n",
      "3804/3804 [==============================] - 1s 179us/step - loss: 0.3934 - accuracy: 0.8770 - val_loss: 0.3801 - val_accuracy: 0.8896\n",
      "\n",
      "Epoch 00057: val_loss did not improve from 0.34775\n",
      "Epoch 58/100\n",
      "3804/3804 [==============================] - 0s 122us/step - loss: 0.3736 - accuracy: 0.8801 - val_loss: 0.3549 - val_accuracy: 0.8933\n",
      "\n",
      "Epoch 00058: val_loss did not improve from 0.34775\n",
      "Epoch 59/100\n",
      "3804/3804 [==============================] - 1s 149us/step - loss: 0.3686 - accuracy: 0.8807 - val_loss: 0.3633 - val_accuracy: 0.8982\n",
      "\n",
      "Epoch 00059: val_loss did not improve from 0.34775\n",
      "Epoch 60/100\n",
      "3804/3804 [==============================] - 0s 121us/step - loss: 0.3613 - accuracy: 0.8814 - val_loss: 0.3669 - val_accuracy: 0.8945\n",
      "\n",
      "Epoch 00060: val_loss did not improve from 0.34775\n",
      "Epoch 61/100\n",
      "3804/3804 [==============================] - 1s 136us/step - loss: 0.3668 - accuracy: 0.8785 - val_loss: 0.3554 - val_accuracy: 0.9013\n",
      "\n",
      "Epoch 00061: val_loss did not improve from 0.34775\n",
      "Epoch 62/100\n",
      "3804/3804 [==============================] - 0s 119us/step - loss: 0.3891 - accuracy: 0.8746 - val_loss: 0.3630 - val_accuracy: 0.8976\n",
      "\n",
      "Epoch 00062: val_loss did not improve from 0.34775\n",
      "Epoch 63/100\n",
      "3804/3804 [==============================] - 0s 122us/step - loss: 0.3451 - accuracy: 0.8838 - val_loss: 0.3842 - val_accuracy: 0.8903\n",
      "\n",
      "Epoch 00063: val_loss did not improve from 0.34775\n",
      "Epoch 64/100\n",
      "3804/3804 [==============================] - 1s 134us/step - loss: 0.3773 - accuracy: 0.8767 - val_loss: 0.3513 - val_accuracy: 0.8927\n",
      "\n",
      "Epoch 00064: val_loss did not improve from 0.34775\n",
      "Epoch 65/100\n",
      "3804/3804 [==============================] - 0s 129us/step - loss: 0.4053 - accuracy: 0.8717 - val_loss: 0.3679 - val_accuracy: 0.8896\n",
      "\n",
      "Epoch 00065: val_loss did not improve from 0.34775\n",
      "Epoch 66/100\n",
      "3804/3804 [==============================] - 0s 118us/step - loss: 0.3636 - accuracy: 0.8801 - val_loss: 0.3613 - val_accuracy: 0.8939\n",
      "\n",
      "Epoch 00066: val_loss did not improve from 0.34775\n",
      "Epoch 67/100\n",
      "3804/3804 [==============================] - 1s 140us/step - loss: 0.3673 - accuracy: 0.8775 - val_loss: 0.3598 - val_accuracy: 0.8970\n",
      "\n",
      "Epoch 00067: val_loss did not improve from 0.34775\n",
      "Epoch 68/100\n",
      "3804/3804 [==============================] - 0s 129us/step - loss: 0.3709 - accuracy: 0.8809 - val_loss: 0.3408 - val_accuracy: 0.8958\n",
      "\n",
      "Epoch 00068: val_loss improved from 0.34775 to 0.34076, saving model to ../Capstone_Project_2/weights.best.basic_mlp.hdf5\n",
      "Epoch 69/100\n",
      "3804/3804 [==============================] - 1s 152us/step - loss: 0.3759 - accuracy: 0.8851 - val_loss: 0.3462 - val_accuracy: 0.9025\n",
      "\n",
      "Epoch 00069: val_loss did not improve from 0.34076\n",
      "Epoch 70/100\n",
      "3804/3804 [==============================] - 0s 124us/step - loss: 0.3837 - accuracy: 0.8799 - val_loss: 0.3574 - val_accuracy: 0.8982\n",
      "\n",
      "Epoch 00070: val_loss did not improve from 0.34076\n",
      "Epoch 71/100\n",
      "3804/3804 [==============================] - 1s 150us/step - loss: 0.3923 - accuracy: 0.8728 - val_loss: 0.3715 - val_accuracy: 0.8872\n",
      "\n",
      "Epoch 00071: val_loss did not improve from 0.34076\n",
      "Epoch 72/100\n",
      "3804/3804 [==============================] - 1s 134us/step - loss: 0.3489 - accuracy: 0.8851 - val_loss: 0.3324 - val_accuracy: 0.9080\n",
      "\n",
      "Epoch 00072: val_loss improved from 0.34076 to 0.33240, saving model to ../Capstone_Project_2/weights.best.basic_mlp.hdf5\n",
      "Epoch 73/100\n",
      "3804/3804 [==============================] - 1s 171us/step - loss: 0.3701 - accuracy: 0.8809 - val_loss: 0.3357 - val_accuracy: 0.9025\n",
      "\n",
      "Epoch 00073: val_loss did not improve from 0.33240\n",
      "Epoch 74/100\n",
      "3804/3804 [==============================] - 1s 136us/step - loss: 0.3805 - accuracy: 0.8767 - val_loss: 0.3521 - val_accuracy: 0.8976\n",
      "\n",
      "Epoch 00074: val_loss did not improve from 0.33240\n",
      "Epoch 75/100\n",
      "3804/3804 [==============================] - 1s 160us/step - loss: 0.3858 - accuracy: 0.8754 - val_loss: 0.3360 - val_accuracy: 0.9007\n",
      "\n",
      "Epoch 00075: val_loss did not improve from 0.33240\n",
      "Epoch 76/100\n",
      "3804/3804 [==============================] - 1s 170us/step - loss: 0.3685 - accuracy: 0.8728 - val_loss: 0.3546 - val_accuracy: 0.9025\n",
      "\n",
      "Epoch 00076: val_loss did not improve from 0.33240\n",
      "Epoch 77/100\n",
      "3804/3804 [==============================] - 1s 148us/step - loss: 0.3608 - accuracy: 0.8812 - val_loss: 0.3323 - val_accuracy: 0.8994\n",
      "\n",
      "Epoch 00077: val_loss improved from 0.33240 to 0.33225, saving model to ../Capstone_Project_2/weights.best.basic_mlp.hdf5\n",
      "Epoch 78/100\n",
      "3804/3804 [==============================] - 1s 150us/step - loss: 0.3547 - accuracy: 0.8796 - val_loss: 0.3365 - val_accuracy: 0.8939\n",
      "\n",
      "Epoch 00078: val_loss did not improve from 0.33225\n",
      "Epoch 79/100\n",
      "3804/3804 [==============================] - 1s 133us/step - loss: 0.3715 - accuracy: 0.8814 - val_loss: 0.3825 - val_accuracy: 0.8823\n",
      "\n",
      "Epoch 00079: val_loss did not improve from 0.33225\n",
      "Epoch 80/100\n",
      "3804/3804 [==============================] - 1s 135us/step - loss: 0.3863 - accuracy: 0.8725 - val_loss: 0.3316 - val_accuracy: 0.9056\n",
      "\n",
      "Epoch 00080: val_loss improved from 0.33225 to 0.33156, saving model to ../Capstone_Project_2/weights.best.basic_mlp.hdf5\n",
      "Epoch 81/100\n",
      "3804/3804 [==============================] - 0s 117us/step - loss: 0.3597 - accuracy: 0.8864 - val_loss: 0.3296 - val_accuracy: 0.9013\n",
      "\n",
      "Epoch 00081: val_loss improved from 0.33156 to 0.32961, saving model to ../Capstone_Project_2/weights.best.basic_mlp.hdf5\n",
      "Epoch 82/100\n",
      "3804/3804 [==============================] - 0s 126us/step - loss: 0.3810 - accuracy: 0.8751 - val_loss: 0.3351 - val_accuracy: 0.9025\n",
      "\n",
      "Epoch 00082: val_loss did not improve from 0.32961\n",
      "Epoch 83/100\n",
      "3804/3804 [==============================] - 1s 140us/step - loss: 0.3681 - accuracy: 0.8809 - val_loss: 0.3510 - val_accuracy: 0.8982\n",
      "\n",
      "Epoch 00083: val_loss did not improve from 0.32961\n",
      "Epoch 84/100\n",
      "3804/3804 [==============================] - 0s 130us/step - loss: 0.3840 - accuracy: 0.8764 - val_loss: 0.3337 - val_accuracy: 0.8896\n",
      "\n",
      "Epoch 00084: val_loss did not improve from 0.32961\n",
      "Epoch 85/100\n",
      "3804/3804 [==============================] - 0s 108us/step - loss: 0.3722 - accuracy: 0.8851 - val_loss: 0.3476 - val_accuracy: 0.8921\n",
      "\n",
      "Epoch 00085: val_loss did not improve from 0.32961\n",
      "Epoch 86/100\n",
      "3804/3804 [==============================] - 1s 133us/step - loss: 0.3815 - accuracy: 0.8820 - val_loss: 0.3244 - val_accuracy: 0.9080\n",
      "\n",
      "Epoch 00086: val_loss improved from 0.32961 to 0.32437, saving model to ../Capstone_Project_2/weights.best.basic_mlp.hdf5\n",
      "Epoch 87/100\n",
      "3804/3804 [==============================] - 1s 154us/step - loss: 0.3917 - accuracy: 0.8809 - val_loss: 0.3470 - val_accuracy: 0.8945\n",
      "\n",
      "Epoch 00087: val_loss did not improve from 0.32437\n",
      "Epoch 88/100\n",
      "3804/3804 [==============================] - 1s 140us/step - loss: 0.3593 - accuracy: 0.8835 - val_loss: 0.3513 - val_accuracy: 0.8976\n",
      "\n",
      "Epoch 00088: val_loss did not improve from 0.32437\n",
      "Epoch 89/100\n",
      "3804/3804 [==============================] - 1s 152us/step - loss: 0.3585 - accuracy: 0.8862 - val_loss: 0.3318 - val_accuracy: 0.8988\n",
      "\n",
      "Epoch 00089: val_loss did not improve from 0.32437\n",
      "Epoch 90/100\n",
      "3804/3804 [==============================] - 0s 130us/step - loss: 0.3640 - accuracy: 0.8864 - val_loss: 0.3381 - val_accuracy: 0.9019\n",
      "\n",
      "Epoch 00090: val_loss did not improve from 0.32437\n",
      "Epoch 91/100\n",
      "3804/3804 [==============================] - 1s 150us/step - loss: 0.3247 - accuracy: 0.8967 - val_loss: 0.3288 - val_accuracy: 0.9031\n",
      "\n",
      "Epoch 00091: val_loss did not improve from 0.32437\n",
      "Epoch 92/100\n",
      "3804/3804 [==============================] - 0s 131us/step - loss: 0.3545 - accuracy: 0.8770 - val_loss: 0.3516 - val_accuracy: 0.8958\n",
      "\n",
      "Epoch 00092: val_loss did not improve from 0.32437\n",
      "Epoch 93/100\n",
      "3804/3804 [==============================] - 1s 150us/step - loss: 0.3566 - accuracy: 0.8809 - val_loss: 0.3394 - val_accuracy: 0.8958\n",
      "\n",
      "Epoch 00093: val_loss did not improve from 0.32437\n",
      "Epoch 94/100\n",
      "3804/3804 [==============================] - 1s 149us/step - loss: 0.3566 - accuracy: 0.8838 - val_loss: 0.3288 - val_accuracy: 0.8964\n",
      "\n",
      "Epoch 00094: val_loss did not improve from 0.32437\n",
      "Epoch 95/100\n",
      "3804/3804 [==============================] - 1s 150us/step - loss: 0.3574 - accuracy: 0.8867 - val_loss: 0.3362 - val_accuracy: 0.8964\n",
      "\n",
      "Epoch 00095: val_loss did not improve from 0.32437\n",
      "Epoch 96/100\n",
      "3804/3804 [==============================] - 1s 165us/step - loss: 0.3509 - accuracy: 0.8875 - val_loss: 0.3440 - val_accuracy: 0.8896\n",
      "\n",
      "Epoch 00096: val_loss did not improve from 0.32437\n",
      "Epoch 97/100\n",
      "3804/3804 [==============================] - 1s 161us/step - loss: 0.3471 - accuracy: 0.8849 - val_loss: 0.3392 - val_accuracy: 0.8933\n",
      "\n",
      "Epoch 00097: val_loss did not improve from 0.32437\n",
      "Epoch 98/100\n",
      "3804/3804 [==============================] - 1s 161us/step - loss: 0.3264 - accuracy: 0.8946 - val_loss: 0.3382 - val_accuracy: 0.8964\n",
      "\n",
      "Epoch 00098: val_loss did not improve from 0.32437\n",
      "Epoch 99/100\n",
      "3804/3804 [==============================] - 1s 140us/step - loss: 0.3821 - accuracy: 0.8799 - val_loss: 0.3384 - val_accuracy: 0.8958\n",
      "\n",
      "Epoch 00099: val_loss did not improve from 0.32437\n",
      "Epoch 100/100\n",
      "3804/3804 [==============================] - 1s 142us/step - loss: 0.3382 - accuracy: 0.8920 - val_loss: 0.3331 - val_accuracy: 0.8976\n",
      "\n",
      "Epoch 00100: val_loss did not improve from 0.32437\n",
      "Training completed in time:  0:00:52.133474\n"
     ]
    }
   ],
   "source": [
    "from keras.callbacks import ModelCheckpoint \n",
    "from datetime import datetime \n",
    "\n",
    "num_epochs = 100\n",
    "num_batch_size = 32\n",
    "\n",
    "checkpointer = ModelCheckpoint(filepath='../Capstone_Project_2/weights.best.basic_mlp.hdf5', \n",
    "                               verbose=1, save_best_only=True)\n",
    "start = datetime.now()\n",
    "\n",
    "model.fit(x_train, y_train, batch_size=num_batch_size, epochs=num_epochs, validation_data=(x_test, y_test), callbacks=[checkpointer], verbose=1)\n",
    "\n",
    "\n",
    "duration = datetime.now() - start\n",
    "print(\"Training completed in time: \", duration)"
   ]
  },
  {
   "cell_type": "markdown",
   "metadata": {},
   "source": [
    "## Test the model\n",
    "Here we will review the accuracy of the model on both the training and test data sets."
   ]
  },
  {
   "cell_type": "code",
   "execution_count": 178,
   "metadata": {},
   "outputs": [
    {
     "name": "stdout",
     "output_type": "stream",
     "text": [
      "Training Accuracy:  0.9726603627204895\n",
      "Testing Accuracy:  0.8976088166236877\n"
     ]
    }
   ],
   "source": [
    "# Evaluating the model on the training and testing set\n",
    "score = model.evaluate(x_train, y_train, verbose=0)\n",
    "print(\"Training Accuracy: \", score[1])\n",
    "\n",
    "score = model.evaluate(x_test, y_test, verbose=0)\n",
    "print(\"Testing Accuracy: \", score[1])"
   ]
  },
  {
   "cell_type": "code",
   "execution_count": 179,
   "metadata": {},
   "outputs": [],
   "source": [
    "\n",
    "import librosa \n",
    "import numpy as np \n",
    "\n",
    "def extract_feature(file_name):\n",
    "   \n",
    "    try:\n",
    "        audio_data, sample_rate = librosa.load(file_name, res_type='kaiser_fast') \n",
    "        mfccs = librosa.feature.mfcc(y=audio_data, sr=sample_rate, n_mfcc=40)\n",
    "        mfccsscaled = np.mean(mfccs.T,axis=0)\n",
    "        \n",
    "    except Exception as e:\n",
    "        print(\"Error encountered while parsing file: \", file)\n",
    "        return None, None\n",
    "\n",
    "    return np.array([mfccsscaled])"
   ]
  },
  {
   "cell_type": "code",
   "execution_count": 180,
   "metadata": {},
   "outputs": [],
   "source": [
    "\n",
    "def print_prediction(file_name):\n",
    "    prediction_feature = extract_feature(file_name) \n",
    "\n",
    "    predicted_vector = model.predict_classes(prediction_feature)\n",
    "    predicted_class = le.inverse_transform(predicted_vector) \n",
    "    print(\"The predicted class is:\", predicted_class[0], '\\n') \n",
    "\n",
    "    predicted_proba_vector = model.predict_proba(prediction_feature) \n",
    "    predicted_proba = predicted_proba_vector[0]\n",
    "    for i in range(len(predicted_proba)): \n",
    "        category = le.inverse_transform(np.array([i]))\n",
    "        print(category[0], \"\\t\\t : \", format(predicted_proba[i], '.32f') )"
   ]
  },
  {
   "cell_type": "markdown",
   "metadata": {},
   "source": [
    "### Test each class"
   ]
  },
  {
   "cell_type": "code",
   "execution_count": 181,
   "metadata": {},
   "outputs": [
    {
     "name": "stdout",
     "output_type": "stream",
     "text": [
      "The predicted class is: air_conditioner \n",
      "\n",
      "air_conditioner \t\t :  0.99999701976776123046875000000000\n",
      "car_horn \t\t :  0.00000000050721826738708841730841\n",
      "children_playing \t\t :  0.00000000006495886467616784898382\n",
      "dog_bark \t\t :  0.00000012448894892713724402710795\n",
      "drilling \t\t :  0.00000000008195875228489413188981\n",
      "engine_idling \t\t :  0.00000012672303739691415103152394\n",
      "gun_shot \t\t :  0.00000000144970890847417877012049\n",
      "jackhammer \t\t :  0.00000000492667195928220280620735\n",
      "siren \t\t :  0.00000174470915226265788078308105\n",
      "street_music \t\t :  0.00000099620274340850301086902618\n"
     ]
    }
   ],
   "source": [
    "# Air Conditioner\n",
    "filename = '../Capstone_Project_2/train/Train/24.wav' \n",
    "print_prediction(filename)"
   ]
  },
  {
   "cell_type": "code",
   "execution_count": 182,
   "metadata": {},
   "outputs": [
    {
     "name": "stdout",
     "output_type": "stream",
     "text": [
      "The predicted class is: car_horn \n",
      "\n",
      "air_conditioner \t\t :  0.00000000024389193442608814166306\n",
      "car_horn \t\t :  0.99830448627471923828125000000000\n",
      "children_playing \t\t :  0.00000000001709420625883861788452\n",
      "dog_bark \t\t :  0.00000230480623031326103955507278\n",
      "drilling \t\t :  0.00001547173815197311341762542725\n",
      "engine_idling \t\t :  0.00000000329104077323449928371701\n",
      "gun_shot \t\t :  0.00000000000043488492971685555055\n",
      "jackhammer \t\t :  0.00000226493989430309738963842392\n",
      "siren \t\t :  0.00000284834754893381614238023758\n",
      "street_music \t\t :  0.00167265301570296287536621093750\n"
     ]
    }
   ],
   "source": [
    "# Car Horn\n",
    "filename = '../Capstone_Project_2/train/Train/48.wav' \n",
    "print_prediction(filename)"
   ]
  },
  {
   "cell_type": "code",
   "execution_count": 183,
   "metadata": {},
   "outputs": [
    {
     "name": "stdout",
     "output_type": "stream",
     "text": [
      "The predicted class is: children_playing \n",
      "\n",
      "air_conditioner \t\t :  0.00000238092434301506727933883667\n",
      "car_horn \t\t :  0.00001049465845426311716437339783\n",
      "children_playing \t\t :  0.96449857950210571289062500000000\n",
      "dog_bark \t\t :  0.02274562045931816101074218750000\n",
      "drilling \t\t :  0.00015408261970151215791702270508\n",
      "engine_idling \t\t :  0.00019491935381665825843811035156\n",
      "gun_shot \t\t :  0.00047619448741897940635681152344\n",
      "jackhammer \t\t :  0.00000021041492459517030511051416\n",
      "siren \t\t :  0.00335997086949646472930908203125\n",
      "street_music \t\t :  0.00855746027082204818725585937500\n"
     ]
    }
   ],
   "source": [
    "# Children Playing\n",
    "filename = '../Capstone_Project_2/train/Train/6.wav' \n",
    "print_prediction(filename)"
   ]
  },
  {
   "cell_type": "code",
   "execution_count": 184,
   "metadata": {},
   "outputs": [
    {
     "name": "stdout",
     "output_type": "stream",
     "text": [
      "The predicted class is: dog_bark \n",
      "\n",
      "air_conditioner \t\t :  0.00125140685122460126876831054688\n",
      "car_horn \t\t :  0.00000000431539559642146741680335\n",
      "children_playing \t\t :  0.00000002903416529420610459055752\n",
      "dog_bark \t\t :  0.97260832786560058593750000000000\n",
      "drilling \t\t :  0.00004252087092027068138122558594\n",
      "engine_idling \t\t :  0.01917824894189834594726562500000\n",
      "gun_shot \t\t :  0.00006298487278399989008903503418\n",
      "jackhammer \t\t :  0.00000019236412640566413756459951\n",
      "siren \t\t :  0.00000428389421358588151633739471\n",
      "street_music \t\t :  0.00685194041579961776733398437500\n"
     ]
    }
   ],
   "source": [
    "# Dog bark\n",
    "filename = '../Capstone_Project_2/train/Train/4.wav' \n",
    "print_prediction(filename)"
   ]
  },
  {
   "cell_type": "code",
   "execution_count": 185,
   "metadata": {},
   "outputs": [
    {
     "name": "stdout",
     "output_type": "stream",
     "text": [
      "The predicted class is: drilling \n",
      "\n",
      "air_conditioner \t\t :  0.00000000000000000000000000000000\n",
      "car_horn \t\t :  0.00000000000000000000000000002018\n",
      "children_playing \t\t :  0.00000000000000000000000000001705\n",
      "dog_bark \t\t :  0.00000000000000000000000333972981\n",
      "drilling \t\t :  1.00000000000000000000000000000000\n",
      "engine_idling \t\t :  0.00000000000000000000000000000000\n",
      "gun_shot \t\t :  0.00000000000000000000000000000071\n",
      "jackhammer \t\t :  0.00000000000000000000654697016237\n",
      "siren \t\t :  0.00000000000000000000000000000000\n",
      "street_music \t\t :  0.00000000000000000000000222743160\n"
     ]
    }
   ],
   "source": [
    "# Drilling\n",
    "filename = '../Capstone_Project_2/train/Train/11.wav' \n",
    "print_prediction(filename)"
   ]
  },
  {
   "cell_type": "code",
   "execution_count": 186,
   "metadata": {},
   "outputs": [
    {
     "name": "stdout",
     "output_type": "stream",
     "text": [
      "The predicted class is: engine_idling \n",
      "\n",
      "air_conditioner \t\t :  0.00000004768581618463940685614944\n",
      "car_horn \t\t :  0.00000000000015433634188363742901\n",
      "children_playing \t\t :  0.00000000108367392837038778452552\n",
      "dog_bark \t\t :  0.00000002748255312212677381467074\n",
      "drilling \t\t :  0.00000048815002173796528950333595\n",
      "engine_idling \t\t :  0.99999928474426269531250000000000\n",
      "gun_shot \t\t :  0.00000000000062812591499622483227\n",
      "jackhammer \t\t :  0.00000000019466518674793320542449\n",
      "siren \t\t :  0.00000000001433714952314701918112\n",
      "street_music \t\t :  0.00000015006331466338451718911529\n"
     ]
    }
   ],
   "source": [
    "#Engine Idling\n",
    "filename = '../Capstone_Project_2/train/Train/17.wav' \n",
    "print_prediction(filename)"
   ]
  },
  {
   "cell_type": "code",
   "execution_count": 187,
   "metadata": {},
   "outputs": [
    {
     "name": "stdout",
     "output_type": "stream",
     "text": [
      "The predicted class is: gun_shot \n",
      "\n",
      "air_conditioner \t\t :  0.00000000000058845826432160630581\n",
      "car_horn \t\t :  0.00000000015187752444578705990352\n",
      "children_playing \t\t :  0.00000516155478180735372006893158\n",
      "dog_bark \t\t :  0.00027733063325285911560058593750\n",
      "drilling \t\t :  0.00000954388724494492635130882263\n",
      "engine_idling \t\t :  0.00000000000037171334803590139195\n",
      "gun_shot \t\t :  0.99970799684524536132812500000000\n",
      "jackhammer \t\t :  0.00000000000006174672318587370867\n",
      "siren \t\t :  0.00000000002131903160951242881538\n",
      "street_music \t\t :  0.00000000023853163888531980774133\n"
     ]
    }
   ],
   "source": [
    "#Gun shot\n",
    "filename = '../Capstone_Project_2/train/Train/12.wav' \n",
    "print_prediction(filename)"
   ]
  },
  {
   "cell_type": "code",
   "execution_count": 188,
   "metadata": {},
   "outputs": [
    {
     "name": "stdout",
     "output_type": "stream",
     "text": [
      "The predicted class is: jackhammer \n",
      "\n",
      "air_conditioner \t\t :  0.00001163196793640963733196258545\n",
      "car_horn \t\t :  0.00072179472772404551506042480469\n",
      "children_playing \t\t :  0.00000007185435890733060659840703\n",
      "dog_bark \t\t :  0.00000002709861490757248247973621\n",
      "drilling \t\t :  0.00003591745553421787917613983154\n",
      "engine_idling \t\t :  0.00000067514997681428212672472000\n",
      "gun_shot \t\t :  0.00000335822119268414098769426346\n",
      "jackhammer \t\t :  0.99804413318634033203125000000000\n",
      "siren \t\t :  0.00000027558306214814365375787020\n",
      "street_music \t\t :  0.00118217396084219217300415039062\n"
     ]
    }
   ],
   "source": [
    "#jackhammer\n",
    "filename = '../Capstone_Project_2/train/Train/33.wav' \n",
    "print_prediction(filename)"
   ]
  },
  {
   "cell_type": "code",
   "execution_count": 189,
   "metadata": {},
   "outputs": [
    {
     "name": "stdout",
     "output_type": "stream",
     "text": [
      "The predicted class is: siren \n",
      "\n",
      "air_conditioner \t\t :  0.00006121601472841575741767883301\n",
      "car_horn \t\t :  0.00003773438220378011465072631836\n",
      "children_playing \t\t :  0.00002691800727916415780782699585\n",
      "dog_bark \t\t :  0.00152355106547474861145019531250\n",
      "drilling \t\t :  0.00000040077469520838349126279354\n",
      "engine_idling \t\t :  0.00046968838432803750038146972656\n",
      "gun_shot \t\t :  0.00001833475835155695676803588867\n",
      "jackhammer \t\t :  0.00040259279194287955760955810547\n",
      "siren \t\t :  0.99739754199981689453125000000000\n",
      "street_music \t\t :  0.00006207113619893789291381835938\n"
     ]
    }
   ],
   "source": [
    "#siren\n",
    "filename = '../Capstone_Project_2/train/Train/0.wav' \n",
    "print_prediction(filename)"
   ]
  },
  {
   "cell_type": "code",
   "execution_count": 190,
   "metadata": {},
   "outputs": [
    {
     "name": "stdout",
     "output_type": "stream",
     "text": [
      "The predicted class is: street_music \n",
      "\n",
      "air_conditioner \t\t :  0.00000952461596170905977487564087\n",
      "car_horn \t\t :  0.00000125327187561197206377983093\n",
      "children_playing \t\t :  0.00000330592069985868874937295914\n",
      "dog_bark \t\t :  0.00000172932868736097589135169983\n",
      "drilling \t\t :  0.00000392400670534698292613029480\n",
      "engine_idling \t\t :  0.00001271152632398298010230064392\n",
      "gun_shot \t\t :  0.00001185752171295462176203727722\n",
      "jackhammer \t\t :  0.00004030571290059015154838562012\n",
      "siren \t\t :  0.00000001730891163731484994059429\n",
      "street_music \t\t :  0.99991536140441894531250000000000\n"
     ]
    }
   ],
   "source": [
    "#street_music\n",
    "filename = '../Capstone_Project_2/train/Train/1.wav' \n",
    "print_prediction(filename)"
   ]
  },
  {
   "cell_type": "markdown",
   "metadata": {},
   "source": [
    "### Observations\n",
    "The performance of our initial model is satisfactorry and has generalised well, seeming to predict well when tested against new audio data."
   ]
  },
  {
   "cell_type": "code",
   "execution_count": 191,
   "metadata": {},
   "outputs": [],
   "source": [
    "testdata = pd.read_csv('../Capstone_Project_2/test/test.csv')"
   ]
  },
  {
   "cell_type": "code",
   "execution_count": 192,
   "metadata": {},
   "outputs": [],
   "source": [
    "testdata['ID'] = testdata['ID'] .astype(str)+'.wav'"
   ]
  },
  {
   "cell_type": "code",
   "execution_count": 193,
   "metadata": {},
   "outputs": [],
   "source": [
    "testdata.to_csv('test.csv')"
   ]
  },
  {
   "cell_type": "markdown",
   "metadata": {},
   "source": [
    "## Predict the classes in the given test set(test.csv)"
   ]
  },
  {
   "cell_type": "code",
   "execution_count": 194,
   "metadata": {},
   "outputs": [],
   "source": [
    "Class_Name = []\n",
    "def print_pred(file_name):\n",
    "    prediction_feature = extract_feature(file_name) \n",
    "\n",
    "    predicted_vector = model.predict_classes(prediction_feature)\n",
    "    predicted_class = le.inverse_transform(predicted_vector) \n",
    "    Class_Name.append(predicted_class[0])"
   ]
  },
  {
   "cell_type": "code",
   "execution_count": 195,
   "metadata": {},
   "outputs": [],
   "source": [
    "import pandas as pd\n",
    "import os\n",
    "import librosa\n",
    "\n",
    "# Set the path to the full UrbanSound dataset \n",
    "fulldatasetpath = '../Capstone_Project_2/test/Test/'\n",
    "\n",
    "testdata = pd.read_csv('../Capstone_Project_2/test.csv')\n",
    "\n",
    "features = []\n",
    "\n",
    "# Iterate through each sound file and extract the features \n",
    "for index, row in testdata.iterrows():\n",
    "    \n",
    "    file_name = os.path.join(os.path.abspath(fulldatasetpath)+'/',str(row[\"ID\"]))\n",
    "    data = print_pred(file_name)\n",
    "\n"
   ]
  },
  {
   "cell_type": "code",
   "execution_count": 196,
   "metadata": {},
   "outputs": [],
   "source": [
    "Class=pd.DataFrame(Class_Name)"
   ]
  },
  {
   "cell_type": "code",
   "execution_count": 197,
   "metadata": {},
   "outputs": [],
   "source": [
    "testdata['Class']=Class"
   ]
  },
  {
   "cell_type": "code",
   "execution_count": 204,
   "metadata": {},
   "outputs": [],
   "source": [
    "testdata = testdata[['Class', 'ID']]"
   ]
  },
  {
   "cell_type": "code",
   "execution_count": 205,
   "metadata": {},
   "outputs": [],
   "source": [
    "testdata[\"ID\"]= testdata[\"ID\"].str.split(\".\", n = 1, expand = True) \n"
   ]
  },
  {
   "cell_type": "code",
   "execution_count": 209,
   "metadata": {},
   "outputs": [],
   "source": [
    "test.to_csv('test.csv')"
   ]
  },
  {
   "cell_type": "markdown",
   "metadata": {},
   "source": [
    "### The submission score on https://datahack.analyticsvidhya.com/contest/practice-problem-urban-sound-classification/my-submissions is 0.88"
   ]
  }
 ],
 "metadata": {
  "kernelspec": {
   "display_name": "Python 3",
   "language": "python",
   "name": "python3"
  },
  "language_info": {
   "codemirror_mode": {
    "name": "ipython",
    "version": 3
   },
   "file_extension": ".py",
   "mimetype": "text/x-python",
   "name": "python",
   "nbconvert_exporter": "python",
   "pygments_lexer": "ipython3",
   "version": "3.7.3"
  }
 },
 "nbformat": 4,
 "nbformat_minor": 2
}
