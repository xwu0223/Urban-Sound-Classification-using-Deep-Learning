{
 "cells": [
  {
   "cell_type": "markdown",
   "metadata": {},
   "source": [
    "# Classifying Urban sounds using Deep Learning\n",
    "\n",
    "## 2. Model Training and Evaluation"
   ]
  },
  {
   "cell_type": "code",
   "execution_count": 171,
   "metadata": {},
   "outputs": [],
   "source": [
    "# retrieve the preprocessed data from previous notebook\n",
    "%store -r x_train \n",
    "%store -r x_test \n",
    "%store -r y_train \n",
    "%store -r y_test \n",
    "%store -r yy \n",
    "%store -r le"
   ]
  },
  {
   "cell_type": "markdown",
   "metadata": {},
   "source": [
    "### Initial model architecture - MLP\n",
    "We will start with constructing a Multilayer Perceptron (MLP) Neural Network using Keras and a Tensorflow backend.\n",
    "\n",
    "Starting with a sequential model so we can build the model layer by layer.\n",
    "\n",
    "We will begin with a simple model architecture, consisting of three layers, an input layer, a hidden layer and an output layer. All three layers will be of the dense layer type which is a standard layer type that is used in many cases for neural networks.\n",
    "\n",
    "The first layer will receive the input shape. As each sample contains 40 MFCCs (Mel Frequency Cepstral Coefficents)(or columns) we have a shape of (1x40) this means we will start with an input shape of 40.\n",
    "\n",
    "The first two layers will have 256 nodes. The activation function we will be using for our first 2 layers is the ReLU, or Rectified Linear Activation. This activation function has been proven to work well in neural networks.\n",
    "\n",
    "We will also apply a Dropout value of 50% on our first two layers. This will randomly exclude nodes from each update cycle which in turn results in a network that is capable of better generalisation and is less likely to overfit the training data.\n",
    "\n",
    "Our output layer will have 10 nodes (num_labels) which matches the number of possible classifications. The activation is for our output layer is softmax. Softmax makes the output sum up to 1 so the output can be interpreted as probabilities. The model will then make its prediction based on which option has the highest probability."
   ]
  },
  {
   "cell_type": "code",
   "execution_count": 223,
   "metadata": {},
   "outputs": [],
   "source": [
    "import numpy as np\n",
    "from keras.models import Sequential\n",
    "from keras.layers import Dense, Dropout, Activation, Flatten\n",
    "from keras.layers import Convolution2D, MaxPooling2D\n",
    "from keras.optimizers import Adam\n",
    "from keras.utils import np_utils\n",
    "from sklearn import metrics \n",
    "\n",
    "num_labels = yy.shape[1]\n",
    "filter_size = 4\n",
    "\n",
    "# Construct model \n",
    "model = Sequential()\n",
    "\n",
    "model.add(Dense(256, input_shape=(40,)))\n",
    "model.add(Activation('relu'))\n",
    "model.add(Dropout(0.2))\n",
    "\n",
    "model.add(Dense(256))\n",
    "model.add(Activation('relu'))\n",
    "model.add(Dropout(0.2))\n",
    "\n",
    "model.add(Dense(num_labels))\n",
    "model.add(Activation('softmax'))"
   ]
  },
  {
   "cell_type": "markdown",
   "metadata": {},
   "source": [
    "## Compiling the model\n",
    "For compiling our model, we will use the following three parameters:\n",
    "\n",
    "Loss function - we will use categorical_crossentropy. This is the most common choice for classification. A lower score indicates that the model is performing better.\n",
    "\n",
    "Metrics - we will use the accuracy metric which will allow us to view the accuracy score on the validation data when we train the model.\n",
    "\n",
    "Optimizer - here we will use adam which is a generally good optimizer for many use cases."
   ]
  },
  {
   "cell_type": "code",
   "execution_count": 224,
   "metadata": {},
   "outputs": [],
   "source": [
    "# Compile the model\n",
    "model.compile(loss='categorical_crossentropy', metrics=['accuracy'], optimizer='adam')"
   ]
  },
  {
   "cell_type": "code",
   "execution_count": 225,
   "metadata": {},
   "outputs": [
    {
     "name": "stdout",
     "output_type": "stream",
     "text": [
      "Model: \"sequential_5\"\n",
      "_________________________________________________________________\n",
      "Layer (type)                 Output Shape              Param #   \n",
      "=================================================================\n",
      "dense_13 (Dense)             (None, 256)               10496     \n",
      "_________________________________________________________________\n",
      "activation_13 (Activation)   (None, 256)               0         \n",
      "_________________________________________________________________\n",
      "dropout_9 (Dropout)          (None, 256)               0         \n",
      "_________________________________________________________________\n",
      "dense_14 (Dense)             (None, 256)               65792     \n",
      "_________________________________________________________________\n",
      "activation_14 (Activation)   (None, 256)               0         \n",
      "_________________________________________________________________\n",
      "dropout_10 (Dropout)         (None, 256)               0         \n",
      "_________________________________________________________________\n",
      "dense_15 (Dense)             (None, 10)                2570      \n",
      "_________________________________________________________________\n",
      "activation_15 (Activation)   (None, 10)                0         \n",
      "=================================================================\n",
      "Total params: 78,858\n",
      "Trainable params: 78,858\n",
      "Non-trainable params: 0\n",
      "_________________________________________________________________\n",
      "Pre-training accuracy: 8.3384%\n"
     ]
    }
   ],
   "source": [
    "# Display model architecture summary \n",
    "model.summary()\n",
    "\n",
    "# Calculate pre-training accuracy \n",
    "score = model.evaluate(x_test, y_test, verbose=0)\n",
    "accuracy = 100*score[1]\n",
    "\n",
    "print(\"Pre-training accuracy: %.4f%%\" % accuracy)"
   ]
  },
  {
   "cell_type": "markdown",
   "metadata": {},
   "source": [
    "### Training\n",
    "Here we will train the model.\n",
    "\n",
    "We will start with 100 epochs which is the number of times the model will cycle through the data. The model will improve on each cycle until it reaches a certain point.\n",
    "\n",
    "We will also start with a low batch size, as having a large batch size can reduce the generalisation ability of the model."
   ]
  },
  {
   "cell_type": "code",
   "execution_count": 226,
   "metadata": {},
   "outputs": [
    {
     "name": "stdout",
     "output_type": "stream",
     "text": [
      "Train on 3804 samples, validate on 1631 samples\n",
      "Epoch 1/100\n",
      "3804/3804 [==============================] - 1s 166us/step - loss: 6.0637 - accuracy: 0.2674 - val_loss: 1.8841 - val_accuracy: 0.3826\n",
      "\n",
      "Epoch 00001: val_loss improved from inf to 1.88409, saving model to ../Capstone_Project_2/weights.best.basic_mlp.hdf5\n",
      "Epoch 2/100\n",
      "3804/3804 [==============================] - 0s 105us/step - loss: 1.9261 - accuracy: 0.3552 - val_loss: 1.6395 - val_accuracy: 0.4396\n",
      "\n",
      "Epoch 00002: val_loss improved from 1.88409 to 1.63949, saving model to ../Capstone_Project_2/weights.best.basic_mlp.hdf5\n",
      "Epoch 3/100\n",
      "3804/3804 [==============================] - 0s 103us/step - loss: 1.6677 - accuracy: 0.4214 - val_loss: 1.4048 - val_accuracy: 0.5438\n",
      "\n",
      "Epoch 00003: val_loss improved from 1.63949 to 1.40477, saving model to ../Capstone_Project_2/weights.best.basic_mlp.hdf5\n",
      "Epoch 4/100\n",
      "3804/3804 [==============================] - 0s 120us/step - loss: 1.4413 - accuracy: 0.5066 - val_loss: 1.2271 - val_accuracy: 0.5990\n",
      "\n",
      "Epoch 00004: val_loss improved from 1.40477 to 1.22706, saving model to ../Capstone_Project_2/weights.best.basic_mlp.hdf5\n",
      "Epoch 5/100\n",
      "3804/3804 [==============================] - 0s 101us/step - loss: 1.2982 - accuracy: 0.5431 - val_loss: 1.1292 - val_accuracy: 0.6266\n",
      "\n",
      "Epoch 00005: val_loss improved from 1.22706 to 1.12922, saving model to ../Capstone_Project_2/weights.best.basic_mlp.hdf5\n",
      "Epoch 6/100\n",
      "3804/3804 [==============================] - 1s 132us/step - loss: 1.1845 - accuracy: 0.5873 - val_loss: 0.9911 - val_accuracy: 0.6695\n",
      "\n",
      "Epoch 00006: val_loss improved from 1.12922 to 0.99106, saving model to ../Capstone_Project_2/weights.best.basic_mlp.hdf5\n",
      "Epoch 7/100\n",
      "3804/3804 [==============================] - 0s 122us/step - loss: 1.0537 - accuracy: 0.6396 - val_loss: 0.9083 - val_accuracy: 0.7069\n",
      "\n",
      "Epoch 00007: val_loss improved from 0.99106 to 0.90834, saving model to ../Capstone_Project_2/weights.best.basic_mlp.hdf5\n",
      "Epoch 8/100\n",
      "3804/3804 [==============================] - 0s 113us/step - loss: 0.9497 - accuracy: 0.6698 - val_loss: 0.8694 - val_accuracy: 0.7094\n",
      "\n",
      "Epoch 00008: val_loss improved from 0.90834 to 0.86942, saving model to ../Capstone_Project_2/weights.best.basic_mlp.hdf5\n",
      "Epoch 9/100\n",
      "3804/3804 [==============================] - 0s 104us/step - loss: 0.8750 - accuracy: 0.6924 - val_loss: 0.7745 - val_accuracy: 0.7456\n",
      "\n",
      "Epoch 00009: val_loss improved from 0.86942 to 0.77448, saving model to ../Capstone_Project_2/weights.best.basic_mlp.hdf5\n",
      "Epoch 10/100\n",
      "3804/3804 [==============================] - 1s 135us/step - loss: 0.7975 - accuracy: 0.7240 - val_loss: 0.7534 - val_accuracy: 0.7633\n",
      "\n",
      "Epoch 00010: val_loss improved from 0.77448 to 0.75339, saving model to ../Capstone_Project_2/weights.best.basic_mlp.hdf5\n",
      "Epoch 11/100\n",
      "3804/3804 [==============================] - 0s 123us/step - loss: 0.7307 - accuracy: 0.7432 - val_loss: 0.6659 - val_accuracy: 0.7848\n",
      "\n",
      "Epoch 00011: val_loss improved from 0.75339 to 0.66594, saving model to ../Capstone_Project_2/weights.best.basic_mlp.hdf5\n",
      "Epoch 12/100\n",
      "3804/3804 [==============================] - 0s 117us/step - loss: 0.6977 - accuracy: 0.7631 - val_loss: 0.6379 - val_accuracy: 0.8044\n",
      "\n",
      "Epoch 00012: val_loss improved from 0.66594 to 0.63793, saving model to ../Capstone_Project_2/weights.best.basic_mlp.hdf5\n",
      "Epoch 13/100\n",
      "3804/3804 [==============================] - 1s 139us/step - loss: 0.6487 - accuracy: 0.7752 - val_loss: 0.6228 - val_accuracy: 0.8081\n",
      "\n",
      "Epoch 00013: val_loss improved from 0.63793 to 0.62276, saving model to ../Capstone_Project_2/weights.best.basic_mlp.hdf5\n",
      "Epoch 14/100\n",
      "3804/3804 [==============================] - 1s 145us/step - loss: 0.6000 - accuracy: 0.8036 - val_loss: 0.5752 - val_accuracy: 0.8234\n",
      "\n",
      "Epoch 00014: val_loss improved from 0.62276 to 0.57525, saving model to ../Capstone_Project_2/weights.best.basic_mlp.hdf5\n",
      "Epoch 15/100\n",
      "3804/3804 [==============================] - 0s 127us/step - loss: 0.5476 - accuracy: 0.8115 - val_loss: 0.5557 - val_accuracy: 0.8289\n",
      "\n",
      "Epoch 00015: val_loss improved from 0.57525 to 0.55566, saving model to ../Capstone_Project_2/weights.best.basic_mlp.hdf5\n",
      "Epoch 16/100\n",
      "3804/3804 [==============================] - 0s 129us/step - loss: 0.5217 - accuracy: 0.8191 - val_loss: 0.5070 - val_accuracy: 0.8412\n",
      "\n",
      "Epoch 00016: val_loss improved from 0.55566 to 0.50697, saving model to ../Capstone_Project_2/weights.best.basic_mlp.hdf5\n",
      "Epoch 17/100\n",
      "3804/3804 [==============================] - 1s 164us/step - loss: 0.4805 - accuracy: 0.8354 - val_loss: 0.4912 - val_accuracy: 0.8363\n",
      "\n",
      "Epoch 00017: val_loss improved from 0.50697 to 0.49122, saving model to ../Capstone_Project_2/weights.best.basic_mlp.hdf5\n",
      "Epoch 18/100\n",
      "3804/3804 [==============================] - 1s 151us/step - loss: 0.4726 - accuracy: 0.8423 - val_loss: 0.4816 - val_accuracy: 0.8547\n",
      "\n",
      "Epoch 00018: val_loss improved from 0.49122 to 0.48163, saving model to ../Capstone_Project_2/weights.best.basic_mlp.hdf5\n",
      "Epoch 19/100\n",
      "3804/3804 [==============================] - 1s 151us/step - loss: 0.4329 - accuracy: 0.8517 - val_loss: 0.4689 - val_accuracy: 0.8596\n",
      "\n",
      "Epoch 00019: val_loss improved from 0.48163 to 0.46894, saving model to ../Capstone_Project_2/weights.best.basic_mlp.hdf5\n",
      "Epoch 20/100\n",
      "3804/3804 [==============================] - 0s 131us/step - loss: 0.4233 - accuracy: 0.8549 - val_loss: 0.4780 - val_accuracy: 0.8473\n",
      "\n",
      "Epoch 00020: val_loss did not improve from 0.46894\n",
      "Epoch 21/100\n",
      "3804/3804 [==============================] - 0s 130us/step - loss: 0.3884 - accuracy: 0.8662 - val_loss: 0.4858 - val_accuracy: 0.8571\n",
      "\n",
      "Epoch 00021: val_loss did not improve from 0.46894\n",
      "Epoch 22/100\n",
      "3804/3804 [==============================] - 0s 116us/step - loss: 0.3676 - accuracy: 0.8783 - val_loss: 0.3892 - val_accuracy: 0.8829\n",
      "\n",
      "Epoch 00022: val_loss improved from 0.46894 to 0.38922, saving model to ../Capstone_Project_2/weights.best.basic_mlp.hdf5\n",
      "Epoch 23/100\n",
      "3804/3804 [==============================] - 0s 107us/step - loss: 0.3443 - accuracy: 0.8791 - val_loss: 0.4007 - val_accuracy: 0.8786\n",
      "\n",
      "Epoch 00023: val_loss did not improve from 0.38922\n",
      "Epoch 24/100\n",
      "3804/3804 [==============================] - 1s 183us/step - loss: 0.3195 - accuracy: 0.8935 - val_loss: 0.3736 - val_accuracy: 0.8903\n",
      "\n",
      "Epoch 00024: val_loss improved from 0.38922 to 0.37356, saving model to ../Capstone_Project_2/weights.best.basic_mlp.hdf5\n",
      "Epoch 25/100\n",
      "3804/3804 [==============================] - 1s 211us/step - loss: 0.3049 - accuracy: 0.8962 - val_loss: 0.4236 - val_accuracy: 0.8743\n",
      "\n",
      "Epoch 00025: val_loss did not improve from 0.37356\n",
      "Epoch 26/100\n",
      "3804/3804 [==============================] - 1s 194us/step - loss: 0.3014 - accuracy: 0.8956 - val_loss: 0.3747 - val_accuracy: 0.8841\n",
      "\n",
      "Epoch 00026: val_loss did not improve from 0.37356\n",
      "Epoch 27/100\n",
      "3804/3804 [==============================] - 0s 126us/step - loss: 0.2775 - accuracy: 0.9025 - val_loss: 0.3816 - val_accuracy: 0.8804\n",
      "\n",
      "Epoch 00027: val_loss did not improve from 0.37356\n",
      "Epoch 28/100\n",
      "3804/3804 [==============================] - 1s 139us/step - loss: 0.2849 - accuracy: 0.9027 - val_loss: 0.3819 - val_accuracy: 0.8835\n",
      "\n",
      "Epoch 00028: val_loss did not improve from 0.37356\n",
      "Epoch 29/100\n",
      "3804/3804 [==============================] - 1s 133us/step - loss: 0.2723 - accuracy: 0.9040 - val_loss: 0.3366 - val_accuracy: 0.9019\n",
      "\n",
      "Epoch 00029: val_loss improved from 0.37356 to 0.33663, saving model to ../Capstone_Project_2/weights.best.basic_mlp.hdf5\n",
      "Epoch 30/100\n",
      "3804/3804 [==============================] - 1s 155us/step - loss: 0.2586 - accuracy: 0.9148 - val_loss: 0.3742 - val_accuracy: 0.8878\n",
      "\n",
      "Epoch 00030: val_loss did not improve from 0.33663\n",
      "Epoch 31/100\n",
      "3804/3804 [==============================] - 1s 134us/step - loss: 0.2416 - accuracy: 0.9140 - val_loss: 0.3479 - val_accuracy: 0.8945\n",
      "\n",
      "Epoch 00031: val_loss did not improve from 0.33663\n",
      "Epoch 32/100\n",
      "3804/3804 [==============================] - 0s 116us/step - loss: 0.2531 - accuracy: 0.9161 - val_loss: 0.3854 - val_accuracy: 0.8847\n",
      "\n",
      "Epoch 00032: val_loss did not improve from 0.33663\n",
      "Epoch 33/100\n",
      "3804/3804 [==============================] - 0s 114us/step - loss: 0.2486 - accuracy: 0.9132 - val_loss: 0.3123 - val_accuracy: 0.9080\n",
      "\n",
      "Epoch 00033: val_loss improved from 0.33663 to 0.31227, saving model to ../Capstone_Project_2/weights.best.basic_mlp.hdf5\n",
      "Epoch 34/100\n",
      "3804/3804 [==============================] - 0s 113us/step - loss: 0.2164 - accuracy: 0.9225 - val_loss: 0.3487 - val_accuracy: 0.8970\n",
      "\n",
      "Epoch 00034: val_loss did not improve from 0.31227\n",
      "Epoch 35/100\n",
      "3804/3804 [==============================] - 0s 109us/step - loss: 0.2196 - accuracy: 0.9253 - val_loss: 0.3151 - val_accuracy: 0.9080\n",
      "\n",
      "Epoch 00035: val_loss did not improve from 0.31227\n",
      "Epoch 36/100\n",
      "3804/3804 [==============================] - 0s 105us/step - loss: 0.2139 - accuracy: 0.9267 - val_loss: 0.3670 - val_accuracy: 0.8945\n",
      "\n",
      "Epoch 00036: val_loss did not improve from 0.31227\n",
      "Epoch 37/100\n",
      "3804/3804 [==============================] - 0s 112us/step - loss: 0.2174 - accuracy: 0.9264 - val_loss: 0.3259 - val_accuracy: 0.8970\n",
      "\n",
      "Epoch 00037: val_loss did not improve from 0.31227\n",
      "Epoch 38/100\n",
      "3804/3804 [==============================] - 0s 90us/step - loss: 0.2046 - accuracy: 0.9280 - val_loss: 0.3250 - val_accuracy: 0.9074\n",
      "\n",
      "Epoch 00038: val_loss did not improve from 0.31227\n",
      "Epoch 39/100\n",
      "3804/3804 [==============================] - 0s 125us/step - loss: 0.1895 - accuracy: 0.9361 - val_loss: 0.3541 - val_accuracy: 0.9001\n",
      "\n",
      "Epoch 00039: val_loss did not improve from 0.31227\n",
      "Epoch 40/100\n",
      "3804/3804 [==============================] - 1s 197us/step - loss: 0.2000 - accuracy: 0.9322 - val_loss: 0.3282 - val_accuracy: 0.9111\n",
      "\n",
      "Epoch 00040: val_loss did not improve from 0.31227\n",
      "Epoch 41/100\n",
      "3804/3804 [==============================] - 1s 169us/step - loss: 0.1745 - accuracy: 0.9440 - val_loss: 0.3189 - val_accuracy: 0.9123\n",
      "\n",
      "Epoch 00041: val_loss did not improve from 0.31227\n",
      "Epoch 42/100\n",
      "3804/3804 [==============================] - 1s 173us/step - loss: 0.1986 - accuracy: 0.9335 - val_loss: 0.3129 - val_accuracy: 0.9086\n",
      "\n",
      "Epoch 00042: val_loss did not improve from 0.31227\n",
      "Epoch 43/100\n",
      "3804/3804 [==============================] - 0s 119us/step - loss: 0.1537 - accuracy: 0.9487 - val_loss: 0.3414 - val_accuracy: 0.9007\n",
      "\n",
      "Epoch 00043: val_loss did not improve from 0.31227\n",
      "Epoch 44/100\n",
      "3804/3804 [==============================] - 0s 128us/step - loss: 0.1754 - accuracy: 0.9427 - val_loss: 0.3428 - val_accuracy: 0.9019\n",
      "\n",
      "Epoch 00044: val_loss did not improve from 0.31227\n",
      "Epoch 45/100\n",
      "3804/3804 [==============================] - 1s 163us/step - loss: 0.1809 - accuracy: 0.9401 - val_loss: 0.3256 - val_accuracy: 0.9117\n",
      "\n",
      "Epoch 00045: val_loss did not improve from 0.31227\n",
      "Epoch 46/100\n",
      "3804/3804 [==============================] - 1s 174us/step - loss: 0.1645 - accuracy: 0.9453 - val_loss: 0.3101 - val_accuracy: 0.9234\n",
      "\n",
      "Epoch 00046: val_loss improved from 0.31227 to 0.31006, saving model to ../Capstone_Project_2/weights.best.basic_mlp.hdf5\n",
      "Epoch 47/100\n",
      "3804/3804 [==============================] - 1s 191us/step - loss: 0.1372 - accuracy: 0.9558 - val_loss: 0.3050 - val_accuracy: 0.9178\n",
      "\n",
      "Epoch 00047: val_loss improved from 0.31006 to 0.30503, saving model to ../Capstone_Project_2/weights.best.basic_mlp.hdf5\n",
      "Epoch 48/100\n",
      "3804/3804 [==============================] - 1s 138us/step - loss: 0.1347 - accuracy: 0.9553 - val_loss: 0.3013 - val_accuracy: 0.9135\n",
      "\n",
      "Epoch 00048: val_loss improved from 0.30503 to 0.30126, saving model to ../Capstone_Project_2/weights.best.basic_mlp.hdf5\n",
      "Epoch 49/100\n",
      "3804/3804 [==============================] - 1s 141us/step - loss: 0.1427 - accuracy: 0.9501 - val_loss: 0.2867 - val_accuracy: 0.9221\n",
      "\n",
      "Epoch 00049: val_loss improved from 0.30126 to 0.28670, saving model to ../Capstone_Project_2/weights.best.basic_mlp.hdf5\n",
      "Epoch 50/100\n",
      "3804/3804 [==============================] - 1s 146us/step - loss: 0.1506 - accuracy: 0.9495 - val_loss: 0.3175 - val_accuracy: 0.9191\n",
      "\n",
      "Epoch 00050: val_loss did not improve from 0.28670\n",
      "Epoch 51/100\n",
      "3804/3804 [==============================] - 1s 169us/step - loss: 0.1521 - accuracy: 0.9458 - val_loss: 0.3774 - val_accuracy: 0.9019\n",
      "\n",
      "Epoch 00051: val_loss did not improve from 0.28670\n",
      "Epoch 52/100\n",
      "3804/3804 [==============================] - 1s 165us/step - loss: 0.1546 - accuracy: 0.9424 - val_loss: 0.3381 - val_accuracy: 0.9135\n",
      "\n",
      "Epoch 00052: val_loss did not improve from 0.28670\n",
      "Epoch 53/100\n",
      "3804/3804 [==============================] - 0s 120us/step - loss: 0.1386 - accuracy: 0.9537 - val_loss: 0.3354 - val_accuracy: 0.9185\n",
      "\n",
      "Epoch 00053: val_loss did not improve from 0.28670\n",
      "Epoch 54/100\n",
      "3804/3804 [==============================] - 1s 165us/step - loss: 0.1330 - accuracy: 0.9572 - val_loss: 0.3302 - val_accuracy: 0.9142\n",
      "\n",
      "Epoch 00054: val_loss did not improve from 0.28670\n",
      "Epoch 55/100\n",
      "3804/3804 [==============================] - 1s 183us/step - loss: 0.1430 - accuracy: 0.9522 - val_loss: 0.3349 - val_accuracy: 0.9135\n",
      "\n",
      "Epoch 00055: val_loss did not improve from 0.28670\n",
      "Epoch 56/100\n",
      "3804/3804 [==============================] - 1s 187us/step - loss: 0.1442 - accuracy: 0.9516 - val_loss: 0.3287 - val_accuracy: 0.9234\n",
      "\n",
      "Epoch 00056: val_loss did not improve from 0.28670\n",
      "Epoch 57/100\n",
      "3804/3804 [==============================] - 1s 195us/step - loss: 0.1581 - accuracy: 0.9466 - val_loss: 0.3426 - val_accuracy: 0.9142\n",
      "\n",
      "Epoch 00057: val_loss did not improve from 0.28670\n",
      "Epoch 58/100\n",
      "3804/3804 [==============================] - 1s 191us/step - loss: 0.1569 - accuracy: 0.9514 - val_loss: 0.3724 - val_accuracy: 0.8964\n",
      "\n",
      "Epoch 00058: val_loss did not improve from 0.28670\n",
      "Epoch 59/100\n",
      "3804/3804 [==============================] - 0s 120us/step - loss: 0.1256 - accuracy: 0.9572 - val_loss: 0.3688 - val_accuracy: 0.9148\n",
      "\n",
      "Epoch 00059: val_loss did not improve from 0.28670\n",
      "Epoch 60/100\n",
      "3804/3804 [==============================] - 1s 160us/step - loss: 0.1327 - accuracy: 0.9527 - val_loss: 0.3790 - val_accuracy: 0.9123\n",
      "\n",
      "Epoch 00060: val_loss did not improve from 0.28670\n",
      "Epoch 61/100\n",
      "3804/3804 [==============================] - 1s 174us/step - loss: 0.1165 - accuracy: 0.9606 - val_loss: 0.3644 - val_accuracy: 0.9221\n",
      "\n",
      "Epoch 00061: val_loss did not improve from 0.28670\n",
      "Epoch 62/100\n",
      "3804/3804 [==============================] - 0s 129us/step - loss: 0.1367 - accuracy: 0.9524 - val_loss: 0.3249 - val_accuracy: 0.9197\n",
      "\n",
      "Epoch 00062: val_loss did not improve from 0.28670\n",
      "Epoch 63/100\n",
      "3804/3804 [==============================] - 1s 190us/step - loss: 0.1079 - accuracy: 0.9624 - val_loss: 0.3323 - val_accuracy: 0.9264\n",
      "\n",
      "Epoch 00063: val_loss did not improve from 0.28670\n",
      "Epoch 64/100\n",
      "3804/3804 [==============================] - 1s 168us/step - loss: 0.0951 - accuracy: 0.9669 - val_loss: 0.3172 - val_accuracy: 0.9154\n",
      "\n",
      "Epoch 00064: val_loss did not improve from 0.28670\n",
      "Epoch 65/100\n",
      "3804/3804 [==============================] - 1s 153us/step - loss: 0.1196 - accuracy: 0.9561 - val_loss: 0.3380 - val_accuracy: 0.9154\n",
      "\n",
      "Epoch 00065: val_loss did not improve from 0.28670\n",
      "Epoch 66/100\n",
      "3804/3804 [==============================] - 1s 152us/step - loss: 0.1426 - accuracy: 0.9540 - val_loss: 0.3335 - val_accuracy: 0.9172\n",
      "\n",
      "Epoch 00066: val_loss did not improve from 0.28670\n",
      "Epoch 67/100\n",
      "3804/3804 [==============================] - 1s 155us/step - loss: 0.1234 - accuracy: 0.9598 - val_loss: 0.3811 - val_accuracy: 0.9197\n",
      "\n",
      "Epoch 00067: val_loss did not improve from 0.28670\n",
      "Epoch 68/100\n",
      "3804/3804 [==============================] - 1s 169us/step - loss: 0.1113 - accuracy: 0.9629 - val_loss: 0.3901 - val_accuracy: 0.9185\n",
      "\n",
      "Epoch 00068: val_loss did not improve from 0.28670\n",
      "Epoch 69/100\n",
      "3804/3804 [==============================] - 0s 120us/step - loss: 0.1205 - accuracy: 0.9600 - val_loss: 0.3457 - val_accuracy: 0.9234\n",
      "\n",
      "Epoch 00069: val_loss did not improve from 0.28670\n",
      "Epoch 70/100\n",
      "3804/3804 [==============================] - 1s 167us/step - loss: 0.0989 - accuracy: 0.9648 - val_loss: 0.3647 - val_accuracy: 0.9197\n",
      "\n",
      "Epoch 00070: val_loss did not improve from 0.28670\n",
      "Epoch 71/100\n",
      "3804/3804 [==============================] - 0s 119us/step - loss: 0.1184 - accuracy: 0.9635 - val_loss: 0.3444 - val_accuracy: 0.9221\n",
      "\n",
      "Epoch 00071: val_loss did not improve from 0.28670\n",
      "Epoch 72/100\n",
      "3804/3804 [==============================] - 1s 168us/step - loss: 0.1215 - accuracy: 0.9642 - val_loss: 0.3771 - val_accuracy: 0.9246\n",
      "\n",
      "Epoch 00072: val_loss did not improve from 0.28670\n",
      "Epoch 73/100\n",
      "3804/3804 [==============================] - 1s 139us/step - loss: 0.0944 - accuracy: 0.9679 - val_loss: 0.3610 - val_accuracy: 0.9240\n",
      "\n",
      "Epoch 00073: val_loss did not improve from 0.28670\n",
      "Epoch 74/100\n",
      "3804/3804 [==============================] - 1s 152us/step - loss: 0.1133 - accuracy: 0.9629 - val_loss: 0.3615 - val_accuracy: 0.9154\n",
      "\n",
      "Epoch 00074: val_loss did not improve from 0.28670\n",
      "Epoch 75/100\n",
      "3804/3804 [==============================] - 1s 172us/step - loss: 0.1195 - accuracy: 0.9627 - val_loss: 0.3223 - val_accuracy: 0.9227\n",
      "\n",
      "Epoch 00075: val_loss did not improve from 0.28670\n",
      "Epoch 76/100\n",
      "3804/3804 [==============================] - 1s 167us/step - loss: 0.1058 - accuracy: 0.9671 - val_loss: 0.3824 - val_accuracy: 0.9197\n",
      "\n",
      "Epoch 00076: val_loss did not improve from 0.28670\n",
      "Epoch 77/100\n",
      "3804/3804 [==============================] - 1s 171us/step - loss: 0.0942 - accuracy: 0.9685 - val_loss: 0.3423 - val_accuracy: 0.9166\n",
      "\n",
      "Epoch 00077: val_loss did not improve from 0.28670\n",
      "Epoch 78/100\n",
      "3804/3804 [==============================] - 1s 177us/step - loss: 0.0994 - accuracy: 0.9698 - val_loss: 0.3014 - val_accuracy: 0.9368\n",
      "\n",
      "Epoch 00078: val_loss did not improve from 0.28670\n",
      "Epoch 79/100\n",
      "3804/3804 [==============================] - 1s 145us/step - loss: 0.1005 - accuracy: 0.9656 - val_loss: 0.3922 - val_accuracy: 0.9178\n",
      "\n",
      "Epoch 00079: val_loss did not improve from 0.28670\n",
      "Epoch 80/100\n",
      "3804/3804 [==============================] - 1s 169us/step - loss: 0.1003 - accuracy: 0.9666 - val_loss: 0.3536 - val_accuracy: 0.9258\n",
      "\n",
      "Epoch 00080: val_loss did not improve from 0.28670\n",
      "Epoch 81/100\n",
      "3804/3804 [==============================] - 1s 170us/step - loss: 0.1008 - accuracy: 0.9671 - val_loss: 0.3309 - val_accuracy: 0.9313\n",
      "\n",
      "Epoch 00081: val_loss did not improve from 0.28670\n",
      "Epoch 82/100\n",
      "3804/3804 [==============================] - 1s 158us/step - loss: 0.1033 - accuracy: 0.9653 - val_loss: 0.3566 - val_accuracy: 0.9301\n",
      "\n",
      "Epoch 00082: val_loss did not improve from 0.28670\n",
      "Epoch 83/100\n",
      "3804/3804 [==============================] - 1s 165us/step - loss: 0.0931 - accuracy: 0.9687 - val_loss: 0.3175 - val_accuracy: 0.9283\n",
      "\n",
      "Epoch 00083: val_loss did not improve from 0.28670\n",
      "Epoch 84/100\n",
      "3804/3804 [==============================] - 1s 146us/step - loss: 0.0853 - accuracy: 0.9716 - val_loss: 0.3504 - val_accuracy: 0.9270\n",
      "\n",
      "Epoch 00084: val_loss did not improve from 0.28670\n",
      "Epoch 85/100\n",
      "3804/3804 [==============================] - 1s 161us/step - loss: 0.0896 - accuracy: 0.9719 - val_loss: 0.3794 - val_accuracy: 0.9160\n",
      "\n",
      "Epoch 00085: val_loss did not improve from 0.28670\n",
      "Epoch 86/100\n",
      "3804/3804 [==============================] - 1s 132us/step - loss: 0.0895 - accuracy: 0.9708 - val_loss: 0.3506 - val_accuracy: 0.9326\n",
      "\n",
      "Epoch 00086: val_loss did not improve from 0.28670\n",
      "Epoch 87/100\n",
      "3804/3804 [==============================] - 1s 158us/step - loss: 0.0873 - accuracy: 0.9734 - val_loss: 0.3819 - val_accuracy: 0.9246\n",
      "\n",
      "Epoch 00087: val_loss did not improve from 0.28670\n",
      "Epoch 88/100\n",
      "3804/3804 [==============================] - 1s 182us/step - loss: 0.0800 - accuracy: 0.9719 - val_loss: 0.3295 - val_accuracy: 0.9295\n",
      "\n",
      "Epoch 00088: val_loss did not improve from 0.28670\n",
      "Epoch 89/100\n",
      "3804/3804 [==============================] - 1s 136us/step - loss: 0.0866 - accuracy: 0.9716 - val_loss: 0.3282 - val_accuracy: 0.9240\n",
      "\n",
      "Epoch 00089: val_loss did not improve from 0.28670\n",
      "Epoch 90/100\n",
      "3804/3804 [==============================] - 1s 140us/step - loss: 0.1116 - accuracy: 0.9664 - val_loss: 0.3288 - val_accuracy: 0.9221\n",
      "\n",
      "Epoch 00090: val_loss did not improve from 0.28670\n",
      "Epoch 91/100\n",
      "3804/3804 [==============================] - 1s 137us/step - loss: 0.0887 - accuracy: 0.9677 - val_loss: 0.3200 - val_accuracy: 0.9227\n",
      "\n",
      "Epoch 00091: val_loss did not improve from 0.28670\n",
      "Epoch 92/100\n",
      "3804/3804 [==============================] - 1s 143us/step - loss: 0.0933 - accuracy: 0.9719 - val_loss: 0.3672 - val_accuracy: 0.9221\n",
      "\n",
      "Epoch 00092: val_loss did not improve from 0.28670\n",
      "Epoch 93/100\n",
      "3804/3804 [==============================] - 1s 161us/step - loss: 0.0797 - accuracy: 0.9742 - val_loss: 0.3633 - val_accuracy: 0.9234\n",
      "\n",
      "Epoch 00093: val_loss did not improve from 0.28670\n",
      "Epoch 94/100\n",
      "3804/3804 [==============================] - 1s 137us/step - loss: 0.0983 - accuracy: 0.9674 - val_loss: 0.3409 - val_accuracy: 0.9313\n",
      "\n",
      "Epoch 00094: val_loss did not improve from 0.28670\n",
      "Epoch 95/100\n",
      "3804/3804 [==============================] - 1s 156us/step - loss: 0.1003 - accuracy: 0.9674 - val_loss: 0.3313 - val_accuracy: 0.9270\n",
      "\n",
      "Epoch 00095: val_loss did not improve from 0.28670\n",
      "Epoch 96/100\n",
      "3804/3804 [==============================] - 0s 120us/step - loss: 0.0726 - accuracy: 0.9761 - val_loss: 0.3531 - val_accuracy: 0.9191\n",
      "\n",
      "Epoch 00096: val_loss did not improve from 0.28670\n",
      "Epoch 97/100\n",
      "3804/3804 [==============================] - 0s 129us/step - loss: 0.0817 - accuracy: 0.9716 - val_loss: 0.3231 - val_accuracy: 0.9362\n",
      "\n",
      "Epoch 00097: val_loss did not improve from 0.28670\n",
      "Epoch 98/100\n",
      "3804/3804 [==============================] - 1s 153us/step - loss: 0.0852 - accuracy: 0.9708 - val_loss: 0.3350 - val_accuracy: 0.9301\n",
      "\n",
      "Epoch 00098: val_loss did not improve from 0.28670\n",
      "Epoch 99/100\n",
      "3804/3804 [==============================] - 1s 156us/step - loss: 0.0941 - accuracy: 0.9716 - val_loss: 0.3759 - val_accuracy: 0.9191\n",
      "\n",
      "Epoch 00099: val_loss did not improve from 0.28670\n",
      "Epoch 100/100\n",
      "3804/3804 [==============================] - 1s 142us/step - loss: 0.0899 - accuracy: 0.9706 - val_loss: 0.3657 - val_accuracy: 0.9270\n",
      "\n",
      "Epoch 00100: val_loss did not improve from 0.28670\n",
      "Training completed in time:  0:00:58.925440\n"
     ]
    }
   ],
   "source": [
    "from keras.callbacks import ModelCheckpoint \n",
    "from datetime import datetime \n",
    "\n",
    "num_epochs = 100\n",
    "num_batch_size = 32\n",
    "\n",
    "checkpointer = ModelCheckpoint(filepath='../Capstone_Project_2/weights.best.basic_mlp.hdf5', \n",
    "                               verbose=1, save_best_only=True)\n",
    "start = datetime.now()\n",
    "\n",
    "model.fit(x_train, y_train, batch_size=num_batch_size, epochs=num_epochs, validation_data=(x_test, y_test), callbacks=[checkpointer], verbose=1)\n",
    "\n",
    "\n",
    "duration = datetime.now() - start\n",
    "print(\"Training completed in time: \", duration)"
   ]
  },
  {
   "cell_type": "markdown",
   "metadata": {},
   "source": [
    "## Test the model\n",
    "Here we will review the accuracy of the model on both the training and test data sets."
   ]
  },
  {
   "cell_type": "code",
   "execution_count": 227,
   "metadata": {},
   "outputs": [
    {
     "name": "stdout",
     "output_type": "stream",
     "text": [
      "Training Accuracy:  0.9978969693183899\n",
      "Testing Accuracy:  0.9270386099815369\n"
     ]
    }
   ],
   "source": [
    "# Evaluating the model on the training and testing set\n",
    "score = model.evaluate(x_train, y_train, verbose=0)\n",
    "print(\"Training Accuracy: \", score[1])\n",
    "\n",
    "score = model.evaluate(x_test, y_test, verbose=0)\n",
    "print(\"Testing Accuracy: \", score[1])"
   ]
  },
  {
   "cell_type": "code",
   "execution_count": 228,
   "metadata": {},
   "outputs": [],
   "source": [
    "\n",
    "import librosa \n",
    "import numpy as np \n",
    "\n",
    "def extract_feature(file_name):\n",
    "   \n",
    "    try:\n",
    "        audio_data, sample_rate = librosa.load(file_name, res_type='kaiser_fast') \n",
    "        mfccs = librosa.feature.mfcc(y=audio_data, sr=sample_rate, n_mfcc=40)\n",
    "        mfccsscaled = np.mean(mfccs.T,axis=0)\n",
    "        \n",
    "    except Exception as e:\n",
    "        print(\"Error encountered while parsing file: \", file)\n",
    "        return None, None\n",
    "\n",
    "    return np.array([mfccsscaled])"
   ]
  },
  {
   "cell_type": "code",
   "execution_count": 229,
   "metadata": {},
   "outputs": [],
   "source": [
    "\n",
    "def print_prediction(file_name):\n",
    "    prediction_feature = extract_feature(file_name) \n",
    "\n",
    "    predicted_vector = model.predict_classes(prediction_feature)\n",
    "    predicted_class = le.inverse_transform(predicted_vector) \n",
    "    print(\"The predicted class is:\", predicted_class[0], '\\n') \n",
    "\n",
    "    predicted_proba_vector = model.predict_proba(prediction_feature) \n",
    "    predicted_proba = predicted_proba_vector[0]\n",
    "    for i in range(len(predicted_proba)): \n",
    "        category = le.inverse_transform(np.array([i]))\n",
    "        print(category[0], \"\\t\\t : \", format(predicted_proba[i], '.32f') )"
   ]
  },
  {
   "cell_type": "markdown",
   "metadata": {},
   "source": [
    "### Test each class"
   ]
  },
  {
   "cell_type": "code",
   "execution_count": 253,
   "metadata": {},
   "outputs": [
    {
     "name": "stdout",
     "output_type": "stream",
     "text": [
      "The predicted class is: drilling \n",
      "\n",
      "air_conditioner \t\t :  0.00000000000000000000000000000027\n",
      "car_horn \t\t :  0.00000000000000002903503873479124\n",
      "children_playing \t\t :  0.00000000000000000000115494052993\n",
      "dog_bark \t\t :  0.00000000000001462043410871503163\n",
      "drilling \t\t :  0.99821376800537109375000000000000\n",
      "engine_idling \t\t :  0.00000000000000000000000000000002\n",
      "gun_shot \t\t :  0.00000000000000000000092428992010\n",
      "jackhammer \t\t :  0.00178629334550350904464721679688\n",
      "siren \t\t :  0.00000000000000000000000000000324\n",
      "street_music \t\t :  0.00000000000000039606056238639207\n"
     ]
    }
   ],
   "source": [
    "# Drilling\n",
    "filename = '../Capstone_Project_2/test/Test/4060.wav' \n",
    "print_prediction(filename)"
   ]
  },
  {
   "cell_type": "code",
   "execution_count": 254,
   "metadata": {},
   "outputs": [
    {
     "name": "stdout",
     "output_type": "stream",
     "text": [
      "The predicted class is: children_playing \n",
      "\n",
      "air_conditioner \t\t :  0.00000000000032833062440715266028\n",
      "car_horn \t\t :  0.00000015141870335355633869767189\n",
      "children_playing \t\t :  0.98311859369277954101562500000000\n",
      "dog_bark \t\t :  0.00007684771117055788636207580566\n",
      "drilling \t\t :  0.00000007332023699291312368586659\n",
      "engine_idling \t\t :  0.00000000000007794520508631191946\n",
      "gun_shot \t\t :  0.01669478975236415863037109375000\n",
      "jackhammer \t\t :  0.00000000000000237326074557211910\n",
      "siren \t\t :  0.00000000000653985763113262841273\n",
      "street_music \t\t :  0.00010941340588033199310302734375\n"
     ]
    }
   ],
   "source": [
    "# Children Playing\n",
    "filename = '../Capstone_Project_2/test/Test/7128.wav' \n",
    "print_prediction(filename)"
   ]
  },
  {
   "cell_type": "code",
   "execution_count": 258,
   "metadata": {},
   "outputs": [
    {
     "name": "stdout",
     "output_type": "stream",
     "text": [
      "The predicted class is: street_music \n",
      "\n",
      "air_conditioner \t\t :  0.00770732527598738670349121093750\n",
      "car_horn \t\t :  0.00000438925690104952082037925720\n",
      "children_playing \t\t :  0.00181827484630048274993896484375\n",
      "dog_bark \t\t :  0.00021549727534875273704528808594\n",
      "drilling \t\t :  0.23018267750740051269531250000000\n",
      "engine_idling \t\t :  0.00080198544310405850410461425781\n",
      "gun_shot \t\t :  0.00001067862194759072735905647278\n",
      "jackhammer \t\t :  0.00843258295208215713500976562500\n",
      "siren \t\t :  0.00002845075505319982767105102539\n",
      "street_music \t\t :  0.75079816579818725585937500000000\n"
     ]
    }
   ],
   "source": [
    "# Street Music\n",
    "filename = '../Capstone_Project_2/test/Test/3335.wav' \n",
    "print_prediction(filename)"
   ]
  },
  {
   "cell_type": "code",
   "execution_count": 259,
   "metadata": {},
   "outputs": [
    {
     "name": "stdout",
     "output_type": "stream",
     "text": [
      "The predicted class is: dog_bark \n",
      "\n",
      "air_conditioner \t\t :  0.00000000000000000000000000000000\n",
      "car_horn \t\t :  0.00000000000000000254738789596014\n",
      "children_playing \t\t :  0.00000000000000000005841554009493\n",
      "dog_bark \t\t :  1.00000000000000000000000000000000\n",
      "drilling \t\t :  0.00000000000000000017729706531400\n",
      "engine_idling \t\t :  0.00000000000000000000000000000000\n",
      "gun_shot \t\t :  0.00000000000044505501714531270352\n",
      "jackhammer \t\t :  0.00000000000000000000000000000000\n",
      "siren \t\t :  0.00000000000000000002195405523493\n",
      "street_music \t\t :  0.00000000000000000000000000000002\n"
     ]
    }
   ],
   "source": [
    "# Dog bark\n",
    "filename = '../Capstone_Project_2/test/Test/281.wav' \n",
    "print_prediction(filename)"
   ]
  },
  {
   "cell_type": "code",
   "execution_count": 264,
   "metadata": {},
   "outputs": [
    {
     "name": "stdout",
     "output_type": "stream",
     "text": [
      "The predicted class is: gun_shot \n",
      "\n",
      "air_conditioner \t\t :  0.00000000000000007833223053353841\n",
      "car_horn \t\t :  0.00000000000000000905931515590526\n",
      "children_playing \t\t :  0.00001230783709615934640169143677\n",
      "dog_bark \t\t :  0.05733761936426162719726562500000\n",
      "drilling \t\t :  0.00000017433109178455197252333164\n",
      "engine_idling \t\t :  0.00000000000000000000000000216941\n",
      "gun_shot \t\t :  0.94264984130859375000000000000000\n",
      "jackhammer \t\t :  0.00000000000000000000018524611116\n",
      "siren \t\t :  0.00000000002287933384415019588687\n",
      "street_music \t\t :  0.00000000005439900266357433622488\n"
     ]
    }
   ],
   "source": [
    "# Gun shot\n",
    "filename = '../Capstone_Project_2/test/Test/7117.wav' \n",
    "print_prediction(filename)"
   ]
  },
  {
   "cell_type": "code",
   "execution_count": 281,
   "metadata": {},
   "outputs": [
    {
     "name": "stdout",
     "output_type": "stream",
     "text": [
      "The predicted class is: air_conditioner \n",
      "\n",
      "air_conditioner \t\t :  0.41991049051284790039062500000000\n",
      "car_horn \t\t :  0.00000048313881961803417652845383\n",
      "children_playing \t\t :  0.24721004068851470947265625000000\n",
      "dog_bark \t\t :  0.10683305561542510986328125000000\n",
      "drilling \t\t :  0.00000125928022498555947095155716\n",
      "engine_idling \t\t :  0.01999645680189132690429687500000\n",
      "gun_shot \t\t :  0.00118373206350952386856079101562\n",
      "jackhammer \t\t :  0.00002046230110863689333200454712\n",
      "siren \t\t :  0.00000095013041345737292431294918\n",
      "street_music \t\t :  0.20484319329261779785156250000000\n"
     ]
    }
   ],
   "source": [
    "#air conditioner \n",
    "filename = '../Capstone_Project_2/test/Test/1127.wav' \n",
    "print_prediction(filename)"
   ]
  },
  {
   "cell_type": "code",
   "execution_count": 283,
   "metadata": {},
   "outputs": [
    {
     "name": "stdout",
     "output_type": "stream",
     "text": [
      "The predicted class is: car_horn \n",
      "\n",
      "air_conditioner \t\t :  0.00000000000000000000000000000001\n",
      "car_horn \t\t :  1.00000000000000000000000000000000\n",
      "children_playing \t\t :  0.00000000000000000000000000000000\n",
      "dog_bark \t\t :  0.00000000000000000000000000000000\n",
      "drilling \t\t :  0.00000000000000000000000000000000\n",
      "engine_idling \t\t :  0.00000000000000000000000000000000\n",
      "gun_shot \t\t :  0.00000000000000000000000000000000\n",
      "jackhammer \t\t :  0.00000000000000000000000000000000\n",
      "siren \t\t :  0.00000000000000000000000000000000\n",
      "street_music \t\t :  0.00000000000000000000000000000000\n"
     ]
    }
   ],
   "source": [
    "#car horn\n",
    "filename = '../Capstone_Project_2/test/Test/1102.wav' \n",
    "print_prediction(filename)"
   ]
  },
  {
   "cell_type": "code",
   "execution_count": 272,
   "metadata": {},
   "outputs": [
    {
     "name": "stdout",
     "output_type": "stream",
     "text": [
      "The predicted class is: engine_idling \n",
      "\n",
      "air_conditioner \t\t :  0.00023651641095057129859924316406\n",
      "car_horn \t\t :  0.00000987872226687613874673843384\n",
      "children_playing \t\t :  0.00071573175955563783645629882812\n",
      "dog_bark \t\t :  0.00007891857967479154467582702637\n",
      "drilling \t\t :  0.00000005278201697933582181576639\n",
      "engine_idling \t\t :  0.98152655363082885742187500000000\n",
      "gun_shot \t\t :  0.00001562062607263214886188507080\n",
      "jackhammer \t\t :  0.00000114825729724543634802103043\n",
      "siren \t\t :  0.00003644346361397765576839447021\n",
      "street_music \t\t :  0.01737919263541698455810546875000\n"
     ]
    }
   ],
   "source": [
    "#engine idling\n",
    "filename = '../Capstone_Project_2/test/Test/107.wav' \n",
    "print_prediction(filename)"
   ]
  },
  {
   "cell_type": "code",
   "execution_count": 273,
   "metadata": {},
   "outputs": [
    {
     "name": "stdout",
     "output_type": "stream",
     "text": [
      "The predicted class is: siren \n",
      "\n",
      "air_conditioner \t\t :  0.00000000000002614255552757949880\n",
      "car_horn \t\t :  0.00000000000044638866713263281039\n",
      "children_playing \t\t :  0.00000000130105382023515403489000\n",
      "dog_bark \t\t :  0.00026945961872115731239318847656\n",
      "drilling \t\t :  0.00000000001841969979321511630133\n",
      "engine_idling \t\t :  0.00000000000063600188483781128213\n",
      "gun_shot \t\t :  0.00000000128683586009259443017072\n",
      "jackhammer \t\t :  0.00000000000066077492869714982149\n",
      "siren \t\t :  0.99973052740097045898437500000000\n",
      "street_music \t\t :  0.00000001034495422658210372901522\n"
     ]
    }
   ],
   "source": [
    "#siren\n",
    "filename = '../Capstone_Project_2/test/Test/106.wav' \n",
    "print_prediction(filename)"
   ]
  },
  {
   "cell_type": "code",
   "execution_count": 279,
   "metadata": {},
   "outputs": [
    {
     "name": "stdout",
     "output_type": "stream",
     "text": [
      "The predicted class is: jackhammer \n",
      "\n",
      "air_conditioner \t\t :  0.00000092970526566205080598592758\n",
      "car_horn \t\t :  0.00000000000003573262359287711354\n",
      "children_playing \t\t :  0.00000000005342382439210702216315\n",
      "dog_bark \t\t :  0.00000000000010555459636777189680\n",
      "drilling \t\t :  0.00000000000000000582313272310129\n",
      "engine_idling \t\t :  0.00000000000000328454156539213175\n",
      "gun_shot \t\t :  0.00000000000102864331635865724479\n",
      "jackhammer \t\t :  0.99999904632568359375000000000000\n",
      "siren \t\t :  0.00000000000015835591301791018815\n",
      "street_music \t\t :  0.00000000000242116613216603049352\n"
     ]
    }
   ],
   "source": [
    "#jackhammer\n",
    "filename = '../Capstone_Project_2/test/Test/1099.wav' \n",
    "print_prediction(filename)"
   ]
  },
  {
   "cell_type": "markdown",
   "metadata": {},
   "source": [
    "### Observations\n",
    "The performance of our initial model is satisfactory and has generalised well, seeming to predict well when tested against new audio data."
   ]
  },
  {
   "cell_type": "code",
   "execution_count": 240,
   "metadata": {},
   "outputs": [],
   "source": [
    "testdata = pd.read_csv('../Capstone_Project_2/test/test.csv')"
   ]
  },
  {
   "cell_type": "code",
   "execution_count": 241,
   "metadata": {},
   "outputs": [],
   "source": [
    "testdata['ID'] = testdata['ID'] .astype(str)+'.wav'"
   ]
  },
  {
   "cell_type": "code",
   "execution_count": 242,
   "metadata": {},
   "outputs": [],
   "source": [
    "testdata.to_csv('test.csv')"
   ]
  },
  {
   "cell_type": "markdown",
   "metadata": {},
   "source": [
    "## Predict the classes in the given test set(test.csv)"
   ]
  },
  {
   "cell_type": "code",
   "execution_count": 243,
   "metadata": {},
   "outputs": [],
   "source": [
    "Class_Name = []\n",
    "def print_pred(file_name):\n",
    "    prediction_feature = extract_feature(file_name) \n",
    "\n",
    "    predicted_vector = model.predict_classes(prediction_feature)\n",
    "    predicted_class = le.inverse_transform(predicted_vector) \n",
    "    Class_Name.append(predicted_class[0])"
   ]
  },
  {
   "cell_type": "code",
   "execution_count": 244,
   "metadata": {},
   "outputs": [],
   "source": [
    "import pandas as pd\n",
    "import os\n",
    "import librosa\n",
    "\n",
    "# Set the path to the full UrbanSound dataset \n",
    "fulldatasetpath = '../Capstone_Project_2/test/Test/'\n",
    "\n",
    "testdata = pd.read_csv('../Capstone_Project_2/test.csv')\n",
    "\n",
    "features = []\n",
    "\n",
    "# Iterate through each sound file and extract the features \n",
    "for index, row in testdata.iterrows():\n",
    "    \n",
    "    file_name = os.path.join(os.path.abspath(fulldatasetpath)+'/',str(row[\"ID\"]))\n",
    "    data = print_pred(file_name)\n",
    "\n"
   ]
  },
  {
   "cell_type": "code",
   "execution_count": 245,
   "metadata": {},
   "outputs": [],
   "source": [
    "Class=pd.DataFrame(Class_Name)"
   ]
  },
  {
   "cell_type": "code",
   "execution_count": 246,
   "metadata": {},
   "outputs": [],
   "source": [
    "testdata['Class']=Class"
   ]
  },
  {
   "cell_type": "code",
   "execution_count": 247,
   "metadata": {},
   "outputs": [],
   "source": [
    "testdata = testdata[['Class', 'ID']]"
   ]
  },
  {
   "cell_type": "code",
   "execution_count": 248,
   "metadata": {},
   "outputs": [],
   "source": [
    "testdata[\"ID\"]= testdata[\"ID\"].str.split(\".\", n = 1, expand = True) \n"
   ]
  },
  {
   "cell_type": "code",
   "execution_count": 249,
   "metadata": {},
   "outputs": [],
   "source": [
    "test.to_csv('test.csv')"
   ]
  },
  {
   "cell_type": "markdown",
   "metadata": {},
   "source": [
    "### The submission score on https://datahack.analyticsvidhya.com/contest/practice-problem-urban-sound-classification/my-submissions is 0.88"
   ]
  },
  {
   "cell_type": "code",
   "execution_count": null,
   "metadata": {},
   "outputs": [],
   "source": []
  }
 ],
 "metadata": {
  "kernelspec": {
   "display_name": "Python 3",
   "language": "python",
   "name": "python3"
  },
  "language_info": {
   "codemirror_mode": {
    "name": "ipython",
    "version": 3
   },
   "file_extension": ".py",
   "mimetype": "text/x-python",
   "name": "python",
   "nbconvert_exporter": "python",
   "pygments_lexer": "ipython3",
   "version": "3.7.3"
  }
 },
 "nbformat": 4,
 "nbformat_minor": 2
}
